{
  "metadata": {
    "kernelspec": {
      "language": "python",
      "display_name": "Python 3",
      "name": "python3"
    },
    "language_info": {
      "pygments_lexer": "ipython3",
      "nbconvert_exporter": "python",
      "version": "3.6.4",
      "file_extension": ".py",
      "codemirror_mode": {
        "name": "ipython",
        "version": 3
      },
      "name": "python",
      "mimetype": "text/x-python"
    },
    "colab": {
      "name": "🍷 Predicting Wine Quality: ✅88% Accuracy🔥",
      "provenance": [],
      "include_colab_link": true
    }
  },
  "nbformat_minor": 0,
  "nbformat": 4,
  "cells": [
    {
      "cell_type": "markdown",
      "metadata": {
        "id": "view-in-github",
        "colab_type": "text"
      },
      "source": [
        "<a href=\"https://colab.research.google.com/github/Jorge-89/Analisis-Exploratorio-de-Datos-en-Python/blob/main/%F0%9F%8D%B7_Predicting_Wine_Quality_%E2%9C%8588_Accuracy%F0%9F%94%A5.ipynb\" target=\"_parent\"><img src=\"https://colab.research.google.com/assets/colab-badge.svg\" alt=\"Open In Colab\"/></a>"
      ]
    },
    {
      "source": [
        "\n",
        "# IMPORTANT: RUN THIS CELL IN ORDER TO IMPORT YOUR KAGGLE DATA SOURCES\n",
        "# TO THE CORRECT LOCATION (/kaggle/input) IN YOUR NOTEBOOK,\n",
        "# THEN FEEL FREE TO DELETE THIS CELL.\n",
        "# NOTE: THIS NOTEBOOK ENVIRONMENT DIFFERS FROM KAGGLE'S PYTHON\n",
        "# ENVIRONMENT SO THERE MAY BE MISSING LIBRARIES USED BY YOUR\n",
        "# NOTEBOOK.\n",
        "\n",
        "import os\n",
        "import sys\n",
        "from tempfile import NamedTemporaryFile\n",
        "from urllib.request import urlopen\n",
        "from urllib.parse import unquote, urlparse\n",
        "from urllib.error import HTTPError\n",
        "from zipfile import ZipFile\n",
        "import tarfile\n",
        "import shutil\n",
        "\n",
        "CHUNK_SIZE = 40960\n",
        "DATA_SOURCE_MAPPING = 'red-wine-quality-cortez-et-al-2009:https%3A%2F%2Fstorage.googleapis.com%2Fkaggle-data-sets%2F4458%2F8204%2Fbundle%2Farchive.zip%3FX-Goog-Algorithm%3DGOOG4-RSA-SHA256%26X-Goog-Credential%3Dgcp-kaggle-com%2540kaggle-161607.iam.gserviceaccount.com%252F20240711%252Fauto%252Fstorage%252Fgoog4_request%26X-Goog-Date%3D20240711T005044Z%26X-Goog-Expires%3D259200%26X-Goog-SignedHeaders%3Dhost%26X-Goog-Signature%3D41a9b3b23e251c3052f724b28c404d6bd16f51b5e072c69467427014382aa6a33a8f2a401c06ca5d78ec450d2bdfacaa3b6029f38f0172583f162e6ac889628ab2a68cb57bd18d2f8f99b49b6043733d15c69511243c9c2d4237ca00a1d8750585e97c6f2129134b297fb22b045b11504860ab0bb467038994cbc8e9c5a9e4a2a184bd45b4bbd642d35986f28bdb5e6b905dd582a0e31c6481c8da98c8deec5b52c9d9bad25e9812b2489caec6b9f6a23fcbe27b92fac66efe3b26814276b5df7f880ed931db3e2b876817e108749ca341ddb1e81300f02d599d065b2ab10e5614e524585fb7c856b657740146cb0825f68217dce3b1af433c7514d6ed9f47f9'\n",
        "\n",
        "KAGGLE_INPUT_PATH='/kaggle/input'\n",
        "KAGGLE_WORKING_PATH='/kaggle/working'\n",
        "KAGGLE_SYMLINK='kaggle'\n",
        "\n",
        "!umount /kaggle/input/ 2> /dev/null\n",
        "shutil.rmtree('/kaggle/input', ignore_errors=True)\n",
        "os.makedirs(KAGGLE_INPUT_PATH, 0o777, exist_ok=True)\n",
        "os.makedirs(KAGGLE_WORKING_PATH, 0o777, exist_ok=True)\n",
        "\n",
        "try:\n",
        "  os.symlink(KAGGLE_INPUT_PATH, os.path.join(\"..\", 'input'), target_is_directory=True)\n",
        "except FileExistsError:\n",
        "  pass\n",
        "try:\n",
        "  os.symlink(KAGGLE_WORKING_PATH, os.path.join(\"..\", 'working'), target_is_directory=True)\n",
        "except FileExistsError:\n",
        "  pass\n",
        "\n",
        "for data_source_mapping in DATA_SOURCE_MAPPING.split(','):\n",
        "    directory, download_url_encoded = data_source_mapping.split(':')\n",
        "    download_url = unquote(download_url_encoded)\n",
        "    filename = urlparse(download_url).path\n",
        "    destination_path = os.path.join(KAGGLE_INPUT_PATH, directory)\n",
        "    try:\n",
        "        with urlopen(download_url) as fileres, NamedTemporaryFile() as tfile:\n",
        "            total_length = fileres.headers['content-length']\n",
        "            print(f'Downloading {directory}, {total_length} bytes compressed')\n",
        "            dl = 0\n",
        "            data = fileres.read(CHUNK_SIZE)\n",
        "            while len(data) > 0:\n",
        "                dl += len(data)\n",
        "                tfile.write(data)\n",
        "                done = int(50 * dl / int(total_length))\n",
        "                sys.stdout.write(f\"\\r[{'=' * done}{' ' * (50-done)}] {dl} bytes downloaded\")\n",
        "                sys.stdout.flush()\n",
        "                data = fileres.read(CHUNK_SIZE)\n",
        "            if filename.endswith('.zip'):\n",
        "              with ZipFile(tfile) as zfile:\n",
        "                zfile.extractall(destination_path)\n",
        "            else:\n",
        "              with tarfile.open(tfile.name) as tarfile:\n",
        "                tarfile.extractall(destination_path)\n",
        "            print(f'\\nDownloaded and uncompressed: {directory}')\n",
        "    except HTTPError as e:\n",
        "        print(f'Failed to load (likely expired) {download_url} to path {destination_path}')\n",
        "        continue\n",
        "    except OSError as e:\n",
        "        print(f'Failed to load {download_url} to path {destination_path}')\n",
        "        continue\n",
        "\n",
        "print('Data source import complete.')\n"
      ],
      "metadata": {
        "id": "0Ho-de7WFQUb"
      },
      "cell_type": "code",
      "outputs": [],
      "execution_count": null
    },
    {
      "cell_type": "markdown",
      "source": [
        "<a id=\"1\"></a>\n",
        "# <div style=\"padding:20px;color:white;margin:0;font-size:30px;font-family:Georgia;text-align:center;display:fill;border-radius:5px;background-color:#254E58;overflow:hidden\"><b>✨ Red Wine Quality Prediction ✨</b></div>"
      ],
      "metadata": {
        "id": "aH4W128YFQUe"
      }
    },
    {
      "cell_type": "markdown",
      "source": [
        "<h3 align=\"center\" style=\"font-size: 35px; color: #800080; font-family: Georgia;\">\n",
        "    <span style=\"color: #008080;\"> Author:</span>\n",
        "    <span style=\"color: black;\">Kumod Sharma .📄🖋️</span>\n",
        "</h3>"
      ],
      "metadata": {
        "id": "Mz-xxA5IFQUg"
      }
    },
    {
      "cell_type": "markdown",
      "source": [
        "<img src=\"https://user-images.githubusercontent.com/47216809/86511259-ef33e380-be14-11ea-8ea3-3a3cc4ff5ce8.jpg\" style='width: 1400px; height: 450px;'>"
      ],
      "metadata": {
        "id": "TxXY7lN6FQUh"
      }
    },
    {
      "cell_type": "markdown",
      "source": [
        "---"
      ],
      "metadata": {
        "id": "CR2t7348FQUh"
      }
    },
    {
      "cell_type": "markdown",
      "source": [
        "<a id=\"1\"></a>\n",
        "# <div style=\"padding:20px;color:white;margin:0;font-size:35px;font-family:Verdana;text-align:center;display:fill;border-radius:5px;background-color:#254E58;overflow:hidden\"><b> 🎬 Introduction 🎬</b></div>"
      ],
      "metadata": {
        "papermill": {
          "duration": 0.028936,
          "end_time": "2023-05-19T13:12:35.21781",
          "exception": false,
          "start_time": "2023-05-19T13:12:35.188874",
          "status": "completed"
        },
        "tags": [],
        "id": "224aFxEsFQUi"
      }
    },
    {
      "cell_type": "markdown",
      "source": [
        "<div style=\"border-radius:10px;border:black solid;padding: 15px;background-color:white;font-size:110%;text-align:left\">\n",
        "<div style=\"font-family:Georgia;background-color:'#DEB887'; padding:30px; font-size:17px\">\n",
        "\n",
        "   \n",
        "\n",
        "<h3 align=\"left\"><font color=purple>📝 Project Objective:</font></h3><br>\n",
        "    \n",
        "1. Develop a <b>predictive model</b> using machine learning algorithms to accurately assess and <b>predict the quality of red wines</b> based on various chemical properties and attributes.<br>\n",
        "\n",
        "2. Evaluate and <b>compare the performance of different machine learning techniques</b> to determine the most effective approach for red wine quality prediction, providing insights for potential applications in the wine industry.<br>\n",
        "    \n",
        "3. <b>Dataset Link:-</b> <a href=\"https://www.kaggle.com/datasets/uciml/red-wine-quality-cortez-et-al-2009\">Click to get the Dataset</a><br>\n",
        "    \n",
        "    \n",
        "\n",
        "    \n",
        "    \n",
        "\n",
        "<h3 align=\"left\"><font color=purple>🌟 Business Understanding:</font></h3><br>\n",
        "    \n",
        "1. <b>Enhanced Product Quality:</b> Accurate red wine quality prediction will lead to improved product quality and consistency, enhancing the winery's reputation and customer satisfaction.<br>\n",
        "    \n",
        "2. <b>Cost Optimization:</b> Optimal resource allocation and reduced wastage through predictive modeling will result in cost savings for wineries, improving overall operational efficiency.<br>\n",
        "\n",
        "3. <b>Market Competitiveness:</b> Consistent production of high-quality red wines will give wineries a competitive advantage, allowing them to stand out in the market and attract more customers.<br>\n",
        "    </div>\n",
        "    </div>"
      ],
      "metadata": {
        "id": "KLmbmTHEFQUj"
      }
    },
    {
      "cell_type": "markdown",
      "source": [
        "---"
      ],
      "metadata": {
        "id": "HWuE8OQdFQUj"
      }
    },
    {
      "cell_type": "markdown",
      "source": [
        "<a id=\"1\"></a>\n",
        "# <div style=\"padding:20px;color:white;margin:0;font-size:35px;font-family:Verdana;text-align:center;display:fill;border-radius:5px;background-color:#254E58;overflow:hidden\"><b> ⚙️ Project Content ⚙️</b></div>"
      ],
      "metadata": {
        "id": "8QIVHG2VFQUk"
      }
    },
    {
      "cell_type": "markdown",
      "source": [
        "<div style=\"border-radius:10px;border:black solid;padding: 15px;background-color:white;font-size:110%;text-align:left\">\n",
        "<div style=\"font-family:Georgia;background-color:'#DEB887'; padding:30px; font-size:16px\">\n",
        "\n",
        "<h3 align=\"left\"><font color=purple>📊 Table of Contents:</font></h3><br>\n",
        "    \n",
        "    \n",
        "1. <b>📚 Importing Libraries:</b> - To perform <b>Data Manipulation,Visualization & Model Building.</b><br>\n",
        "    \n",
        "    \n",
        "2. <b>⏳ Loading Dataset:</b> - Load the dataset into a <b>suitable data structure using pandas.</b><br>\n",
        "\n",
        "    \n",
        "3. <b>🧠 Basic Understaning of Data:</b> - Generate basic informations about the data.<br>\n",
        "    \n",
        "    \n",
        "4. <b>🧹 Data Cleaning:</b> - To <b>clean, transform, and restructure</b> the data in order to make it suitable for analysis.<br>\n",
        "\n",
        "    \n",
        "5. <b>📊 Exploatory Data Analysis:</b> -  To  identify <b>trends, patterns, and relationships</b> among the variabels.<br>\n",
        "\n",
        "    \n",
        "6. <b>📈 Feature Selection:</b> -  To identify <b>most relevant features</b> for model building.<br>\n",
        "    \n",
        "    \n",
        "7. <b>⚙️ Data Preprocessing:</b> - To transform data for creating more accurate & robust model.<br>\n",
        "    \n",
        "    \n",
        "8. <b>🎯 Model building:</b>- To build <b>predictive models</b>, using various algorithms.<br>\n",
        "    \n",
        "    \n",
        "9. <b>⚡️ Model evaluation:</b> - To analyze the Model performance using metrics.<br>\n",
        "    \n",
        "    \n",
        "10. <b>🍀 Stacking Model:</b>- To develop a stacked model using the top performing models.<br>\n",
        "\n",
        "\n",
        "11. <b>🎈 Conclusion:</b> - Conclude the project by summarizing the <b>key findings.</b><br>\n",
        "    \n",
        "</div>"
      ],
      "metadata": {
        "id": "i5I4URZmFQUl"
      }
    },
    {
      "cell_type": "markdown",
      "source": [
        "---"
      ],
      "metadata": {
        "id": "Y6JGUhUAFQUm"
      }
    },
    {
      "cell_type": "markdown",
      "source": [
        "<a id=\"1\"></a>\n",
        "# <div style=\"padding:20px;color:white;margin:0;font-size:35px;font-family:Verdana;text-align:center;display:fill;border-radius:5px;background-color:#254E58;overflow:hidden\"><b> 📚 Importing Libraries 📚</b></div>"
      ],
      "metadata": {
        "id": "dI7DRM0zFQUm"
      }
    },
    {
      "cell_type": "code",
      "source": [
        "import numpy as np\n",
        "import pandas as pd\n",
        "import seaborn as sns\n",
        "import matplotlib.pyplot as plt\n",
        "import warnings\n",
        "warnings.filterwarnings(\"ignore\")\n",
        "%matplotlib inline\n",
        "sns.set(style=\"darkgrid\",font_scale=1.5)\n",
        "sns.set(rc={\"axes.facecolor\":\"#FFFAF0\",\"figure.facecolor\":\"#FFFAF0\"})\n",
        "sns.set_context(\"poster\",font_scale = .7)\n",
        "\n",
        "from sklearn.tree import DecisionTreeClassifier\n",
        "from sklearn.linear_model import LogisticRegression\n",
        "from sklearn.naive_bayes import GaussianNB\n",
        "from sklearn.neighbors import KNeighborsClassifier\n",
        "from sklearn.ensemble import RandomForestClassifier, GradientBoostingClassifier, AdaBoostClassifier, StackingClassifier\n",
        "from sklearn.discriminant_analysis import LinearDiscriminantAnalysis\n",
        "\n",
        "from scipy import stats\n",
        "from scipy import special\n",
        "from xgboost import XGBClassifier\n",
        "from lightgbm import LGBMClassifier\n",
        "from catboost import CatBoostClassifier\n",
        "\n",
        "\n",
        "from sklearn.model_selection import train_test_split, StratifiedKFold, GridSearchCV\n",
        "from sklearn.metrics import accuracy_score, precision_score, recall_score, f1_score, confusion_matrix\n",
        "from sklearn.metrics import confusion_matrix, roc_curve, roc_auc_score\n",
        "\n",
        "from imblearn.over_sampling import SMOTE"
      ],
      "metadata": {
        "execution": {
          "iopub.status.busy": "2023-07-21T06:17:17.678512Z",
          "iopub.execute_input": "2023-07-21T06:17:17.678976Z",
          "iopub.status.idle": "2023-07-21T06:17:21.036891Z",
          "shell.execute_reply.started": "2023-07-21T06:17:17.678939Z",
          "shell.execute_reply": "2023-07-21T06:17:21.035811Z"
        },
        "trusted": true,
        "id": "axhcva5IFQUm"
      },
      "execution_count": null,
      "outputs": []
    },
    {
      "cell_type": "markdown",
      "source": [
        "---"
      ],
      "metadata": {
        "id": "TUyEQGL_FQUn"
      }
    },
    {
      "cell_type": "markdown",
      "source": [
        "<a id=\"1\"></a>\n",
        "# <div style=\"padding:20px;color:white;margin:0;font-size:35px;font-family:Verdana;text-align:center;display:fill;border-radius:5px;background-color:#254E58;overflow:hidden\"><b>⏳ Loading Datset ⏳</b></div>"
      ],
      "metadata": {
        "id": "XS7BI5_VFQUn"
      }
    },
    {
      "cell_type": "code",
      "source": [
        "df = pd.read_csv(\"/kaggle/input/red-wine-quality-cortez-et-al-2009/winequality-red.csv\")"
      ],
      "metadata": {
        "execution": {
          "iopub.status.busy": "2023-07-21T06:17:21.040286Z",
          "iopub.execute_input": "2023-07-21T06:17:21.040753Z",
          "iopub.status.idle": "2023-07-21T06:17:21.067888Z",
          "shell.execute_reply.started": "2023-07-21T06:17:21.040711Z",
          "shell.execute_reply": "2023-07-21T06:17:21.066882Z"
        },
        "trusted": true,
        "id": "eslBhdL2FQUn"
      },
      "execution_count": null,
      "outputs": []
    },
    {
      "cell_type": "code",
      "source": [
        "df.head().style.set_properties(**{'background-color': '#E9F6E2','color': 'black','border-color': '#8b8c8c'})"
      ],
      "metadata": {
        "execution": {
          "iopub.status.busy": "2023-07-21T06:17:21.069178Z",
          "iopub.execute_input": "2023-07-21T06:17:21.069708Z",
          "iopub.status.idle": "2023-07-21T06:17:21.146421Z",
          "shell.execute_reply.started": "2023-07-21T06:17:21.069676Z",
          "shell.execute_reply": "2023-07-21T06:17:21.145329Z"
        },
        "trusted": true,
        "id": "ROlBdtnfFQUn"
      },
      "execution_count": null,
      "outputs": []
    },
    {
      "cell_type": "markdown",
      "source": [
        "---"
      ],
      "metadata": {
        "id": "UwjgQnnFFQUo"
      }
    },
    {
      "cell_type": "markdown",
      "source": [
        "<a id=\"1\"></a>\n",
        "# <div style=\"padding:20px;color:white;margin:0;font-size:35px;font-family:Verdana;text-align:center;display:fill;border-radius:5px;background-color:#254E58;overflow:hidden\"><b>🧠 Basic Understanding of Data 🧠</b></div>"
      ],
      "metadata": {
        "id": "UZW6YbUkFQUo"
      }
    },
    {
      "cell_type": "markdown",
      "source": [
        "### 1. Cheking Dimension of Dataset."
      ],
      "metadata": {
        "id": "OXEMZZaqFQUo"
      }
    },
    {
      "cell_type": "code",
      "source": [
        "df.shape"
      ],
      "metadata": {
        "execution": {
          "iopub.status.busy": "2023-07-21T06:17:21.149594Z",
          "iopub.execute_input": "2023-07-21T06:17:21.150041Z",
          "iopub.status.idle": "2023-07-21T06:17:21.160455Z",
          "shell.execute_reply.started": "2023-07-21T06:17:21.15Z",
          "shell.execute_reply": "2023-07-21T06:17:21.159113Z"
        },
        "trusted": true,
        "id": "D6MGtdEbFQUo"
      },
      "execution_count": null,
      "outputs": []
    },
    {
      "cell_type": "markdown",
      "source": [
        "<div style=\"border-radius:10px; border:#808080 solid; padding: 15px; background-color: ##F0E68C ; font-size:100%; text-align:left\">\n",
        "\n",
        "<h3 align=\"left\"><font color=brown>📊 Inference:</font></h3>\n",
        "\n",
        "* There are total **1599 Records/Rows** in the dataset.\n",
        "* There are total **12 Features/columns** in the dataset."
      ],
      "metadata": {
        "id": "iXxiolyaFQUo"
      }
    },
    {
      "cell_type": "markdown",
      "source": [
        "### 2. Generating Basic Information about Data."
      ],
      "metadata": {
        "id": "B7kpAexIFQUo"
      }
    },
    {
      "cell_type": "code",
      "source": [
        "df.info(verbose=False)"
      ],
      "metadata": {
        "execution": {
          "iopub.status.busy": "2023-07-21T06:17:21.161958Z",
          "iopub.execute_input": "2023-07-21T06:17:21.162302Z",
          "iopub.status.idle": "2023-07-21T06:17:21.188618Z",
          "shell.execute_reply.started": "2023-07-21T06:17:21.162272Z",
          "shell.execute_reply": "2023-07-21T06:17:21.18746Z"
        },
        "trusted": true,
        "id": "iNK9vvR4FQUo"
      },
      "execution_count": null,
      "outputs": []
    },
    {
      "cell_type": "markdown",
      "source": [
        "<div style=\"border-radius:10px; border:#808080 solid; padding: 15px; background-color: ##F0E68C ; font-size:100%; text-align:left\">\n",
        "\n",
        "<h3 align=\"left\"><font color=brown>📊 Inference:</font></h3>\n",
        "\n",
        "* All the **features** present is in  the dataset is **numerical.**\n",
        "* No **Categorical Features** present in the dataset."
      ],
      "metadata": {
        "id": "EXYY6h42FQUp"
      }
    },
    {
      "cell_type": "markdown",
      "source": [
        "### 3. Computing Total No. of Missing Values & Percentage of Missing values."
      ],
      "metadata": {
        "id": "hJGqIhE3FQUp"
      }
    },
    {
      "cell_type": "code",
      "source": [
        "null_df = df.isnull().sum().to_frame().rename(columns={0:\"Total No. of Missing Values\"})\n",
        "null_df[\"% of Missing values\"] = round(100*null_df[\"Total No. of Missing Values\"]/len(df),2)\n",
        "null_df.sort_values(by=\"% of Missing values\",ascending=False)"
      ],
      "metadata": {
        "execution": {
          "iopub.status.busy": "2023-07-21T06:17:21.189979Z",
          "iopub.execute_input": "2023-07-21T06:17:21.190759Z",
          "iopub.status.idle": "2023-07-21T06:17:21.213568Z",
          "shell.execute_reply.started": "2023-07-21T06:17:21.190726Z",
          "shell.execute_reply": "2023-07-21T06:17:21.212555Z"
        },
        "trusted": true,
        "id": "1_SCCHNJFQUp"
      },
      "execution_count": null,
      "outputs": []
    },
    {
      "cell_type": "markdown",
      "source": [
        "<div style=\"border-radius:10px; border:#808080 solid; padding: 15px; background-color: ##F0E68C ; font-size:100%; text-align:left\">\n",
        "\n",
        "<h3 align=\"left\"><font color=brown>📊 Inference:</font></h3>\n",
        "\n",
        "* **None of the features** is hvaing **missing values.**\n",
        "* So we can say the dataset will be more reliable for prediction wine quality."
      ],
      "metadata": {
        "id": "gNEz4xjXFQUp"
      }
    },
    {
      "cell_type": "markdown",
      "source": [
        "---"
      ],
      "metadata": {
        "id": "BGGoIhySFQUp"
      }
    },
    {
      "cell_type": "markdown",
      "source": [
        "### 4. Checking Presence of Duplicate Records in Dataset."
      ],
      "metadata": {
        "id": "eVW-NO9TFQUp"
      }
    },
    {
      "cell_type": "code",
      "source": [
        "print(\"Is there any Duplicate Records => \",df.duplicated().any())\n",
        "print(\"-\"*42)\n",
        "print(\"Total Duplicate Records present is =>\",df[df.duplicated()==True].shape[0])"
      ],
      "metadata": {
        "execution": {
          "iopub.status.busy": "2023-07-21T06:17:21.215183Z",
          "iopub.execute_input": "2023-07-21T06:17:21.215567Z",
          "iopub.status.idle": "2023-07-21T06:17:21.231449Z",
          "shell.execute_reply.started": "2023-07-21T06:17:21.215535Z",
          "shell.execute_reply": "2023-07-21T06:17:21.230476Z"
        },
        "trusted": true,
        "id": "WJ-H7rBsFQUp"
      },
      "execution_count": null,
      "outputs": []
    },
    {
      "cell_type": "markdown",
      "source": [
        "<div style=\"border-radius:10px; border:#808080 solid; padding: 15px; background-color: ##F0E68C ; font-size:100%; text-align:left\">\n",
        "\n",
        "<h3 align=\"lefAt\"><font color=brown>💬 Inference:</font></h3>\n",
        "\n",
        "* The  **first output** is **True** which indicates  that is **presenece of Duplicate Records.**\n",
        "* The **second output** is **240** which indicates that there is total **240 Duplicate Records.**\n",
        "* Duplicate vlaues can lead to **Data Integrity issues** so it's better to **drop these records.**"
      ],
      "metadata": {
        "id": "Y-eduv9OFQUq"
      }
    },
    {
      "cell_type": "markdown",
      "source": [
        "----"
      ],
      "metadata": {
        "id": "KzNVd077FQUq"
      }
    },
    {
      "cell_type": "markdown",
      "source": [
        "### 5. Dropping Duplicate Records."
      ],
      "metadata": {
        "id": "6DqEN5UiFQUq"
      }
    },
    {
      "cell_type": "code",
      "source": [
        "df.drop_duplicates(inplace=True)"
      ],
      "metadata": {
        "execution": {
          "iopub.status.busy": "2023-07-21T06:17:21.232948Z",
          "iopub.execute_input": "2023-07-21T06:17:21.233363Z",
          "iopub.status.idle": "2023-07-21T06:17:21.242798Z",
          "shell.execute_reply.started": "2023-07-21T06:17:21.233323Z",
          "shell.execute_reply": "2023-07-21T06:17:21.241932Z"
        },
        "trusted": true,
        "id": "IWuH8TvnFQUq"
      },
      "execution_count": null,
      "outputs": []
    },
    {
      "cell_type": "markdown",
      "source": [
        "----"
      ],
      "metadata": {
        "id": "VA3vAjJ0FQUq"
      }
    },
    {
      "cell_type": "markdown",
      "source": [
        "### 6. Performing Descriptive Statistical Analysis on Numerical Features."
      ],
      "metadata": {
        "id": "okyASsdVFQUq"
      }
    },
    {
      "cell_type": "code",
      "source": [
        "df.describe().T.style.set_properties(**{'background-color': '#E9F6E2','color': 'black','border-color': '#8b8c8c'})"
      ],
      "metadata": {
        "execution": {
          "iopub.status.busy": "2023-07-21T06:17:21.24456Z",
          "iopub.execute_input": "2023-07-21T06:17:21.245444Z",
          "iopub.status.idle": "2023-07-21T06:17:21.296681Z",
          "shell.execute_reply.started": "2023-07-21T06:17:21.245403Z",
          "shell.execute_reply": "2023-07-21T06:17:21.295572Z"
        },
        "trusted": true,
        "id": "KhEfKI3YFQUr"
      },
      "execution_count": null,
      "outputs": []
    },
    {
      "cell_type": "markdown",
      "source": [
        "<div style=\"border-radius:10px; border:#808080 solid; padding: 15px; background-color: ##F0E68C ; font-size:100%; text-align:left\">\n",
        "\n",
        "<h3 align=\"lefAt\"><font color=brown>💬 Inference:</font></h3>\n",
        "\n",
        "1. The **minimum wine quality is 3** and the **maximum wine quality is 8.**\n",
        "2. The **average alchol** a red wine holds according to the data is **10.4**.\n",
        "3. There a **huge difference** between **average total sulfur dioxide** and **maximum total sulfur dioxide**."
      ],
      "metadata": {
        "id": "tFWtRFZrFQUr"
      }
    },
    {
      "cell_type": "markdown",
      "source": [
        "---"
      ],
      "metadata": {
        "id": "hRo64k_HFQUu"
      }
    },
    {
      "cell_type": "markdown",
      "source": [
        "<a id=\"1\"></a>\n",
        "# <div style=\"padding:20px;color:white;margin:0;font-size:35px;font-family:Verdana;text-align:center;display:fill;border-radius:5px;background-color:#254E58;overflow:hidden\"><b>📊 Exploratory Data Analysis.📊</b></div>"
      ],
      "metadata": {
        "id": "9qU4sWH3FQUx"
      }
    },
    {
      "cell_type": "markdown",
      "source": [
        "## <div style=\"text-align: left; background-color:#CFD9F1 ; font-family: Trebuchet MS; color: #0A3399; padding: 15px; line-height:1;border-radius:1px; margin-bottom: 0em; text-align: center; font-size: 25px;border-style: solid;border-color: dark green;\"> 1. Visualizing the Target Variable </div>"
      ],
      "metadata": {
        "id": "5cOU_EinFQUx"
      }
    },
    {
      "cell_type": "code",
      "source": [
        "plt.figure(figsize=(13.7,6))\n",
        "z = df[\"quality\"].value_counts()\n",
        "sns.barplot(x=z.index, y=z.values, order=z.index, palette=[\"#11264e\",\"#6faea4\",\"#FEE08B\",\"#D4A1E7\",\"#E7A1A1\"])\n",
        "plt.title(\"Target Feature Distributions\",fontweight=\"black\",size=25,pad=15)\n",
        "for index,value in enumerate(z.values):\n",
        "    plt.text(index,value,value, ha=\"center\", va=\"bottom\",fontweight=\"black\")\n",
        "\n",
        "plt.tight_layout()\n",
        "plt.show()"
      ],
      "metadata": {
        "execution": {
          "iopub.status.busy": "2023-07-21T06:17:21.300781Z",
          "iopub.execute_input": "2023-07-21T06:17:21.301151Z",
          "iopub.status.idle": "2023-07-21T06:17:21.862418Z",
          "shell.execute_reply.started": "2023-07-21T06:17:21.30112Z",
          "shell.execute_reply": "2023-07-21T06:17:21.86125Z"
        },
        "trusted": true,
        "id": "arobza4kFQUx"
      },
      "execution_count": null,
      "outputs": []
    },
    {
      "cell_type": "markdown",
      "source": [
        "<div style=\"border-radius:10px; border:#808080 solid; padding: 15px; background-color: ##F0E68C ; font-size:100%; text-align:left\">\n",
        "\n",
        "<h3 align=\"lefAt\"><font color=brown>💬 Inference:</font></h3>\n",
        "\n",
        "* Most of the wines are having quality of **5 or 6**.\n",
        "* We can clearly observe a **class-imbalance** in the target feature.\n",
        "* To **overcome** the class-imbalance we can use techniques like:-\n",
        "    1. **`SMOTE (synthetic minority oversampling technique).`**\n",
        "    \n",
        "    2. **`Stratified K-Folds cross-validation.`**\n",
        "   \n",
        "    \n",
        "* **Note:** In this project I have use **Stratified K-Fold Cross-Validaton.**"
      ],
      "metadata": {
        "id": "LHocCe3dFQUx"
      }
    },
    {
      "cell_type": "markdown",
      "source": [
        "---"
      ],
      "metadata": {
        "id": "HA-K8tIjFQUx"
      }
    },
    {
      "cell_type": "markdown",
      "source": [
        "## <div style=\"text-align: left; background-color:#CFD9F1 ; font-family: Trebuchet MS; color: #0A3399; padding: 15px; line-height:1;border-radius:1px; margin-bottom: 0em; text-align: center; font-size: 25px;border-style: solid;border-color: dark green;\"> 2. Visualizing \"Fixed Acidity\" Attribute. </div>"
      ],
      "metadata": {
        "id": "O4h1yzJEFQUy"
      }
    },
    {
      "cell_type": "code",
      "source": [
        "def numerical_plot(column):\n",
        "    plt.figure(figsize=(13.5,10))\n",
        "    plt.subplot(2,1,1)\n",
        "    sns.boxplot(x=\"quality\",y=column, data=df, palette=[\"#FFA07A\",\"#D4A1E7\",\"#FFC0CB\",\"#87CEFA\",\"#F08080\",\"#D8BFD8\"])\n",
        "    plt.title(f\"{column.title()} vs Quality Analysis\",fontweight=\"black\",size=25,pad=10,)\n",
        "\n",
        "    plt.subplot(2,1,2)\n",
        "    sns.histplot(x=column,kde=True,hue=\"quality\",data=df, palette=\"Set2\")\n",
        "    skew = df[column].skew()\n",
        "    plt.title(f\"Skewness of {column.title()} Feature is: {round(skew,3)}\",fontweight=\"black\",size=20,pad=10)\n",
        "    plt.tight_layout()\n",
        "    plt.show()"
      ],
      "metadata": {
        "execution": {
          "iopub.status.busy": "2023-07-21T06:17:21.863902Z",
          "iopub.execute_input": "2023-07-21T06:17:21.864212Z",
          "iopub.status.idle": "2023-07-21T06:17:21.872686Z",
          "shell.execute_reply.started": "2023-07-21T06:17:21.864182Z",
          "shell.execute_reply": "2023-07-21T06:17:21.871474Z"
        },
        "trusted": true,
        "id": "55FdOvF5FQUy"
      },
      "execution_count": null,
      "outputs": []
    },
    {
      "cell_type": "code",
      "source": [
        "numerical_plot(\"fixed acidity\")"
      ],
      "metadata": {
        "execution": {
          "iopub.status.busy": "2023-07-21T06:17:21.874364Z",
          "iopub.execute_input": "2023-07-21T06:17:21.874673Z",
          "iopub.status.idle": "2023-07-21T06:17:23.36211Z",
          "shell.execute_reply.started": "2023-07-21T06:17:21.874647Z",
          "shell.execute_reply": "2023-07-21T06:17:23.361246Z"
        },
        "trusted": true,
        "id": "FYfN07QlFQUy"
      },
      "execution_count": null,
      "outputs": []
    },
    {
      "cell_type": "markdown",
      "source": [
        "<div style=\"border-radius:10px; border:#808080 solid; padding: 15px; background-color: ##F0E68C ; font-size:100%; text-align:left\">\n",
        "\n",
        "<h3 align=\"lefAt\"><font color=brown>💬 Inference:</font></h3>\n",
        "\n",
        "* The feature **fixed acidity** is having **almost a symmetric distribution** but the distribution is **little right skewed** with a skewness value of **0.941**.\n",
        "* Skewness can lead to several implications like **model performance**, **hypothesis testing** and it returns **biased estimation.**\n",
        "* So we will use **tranformation techniques** to transform thesse feature to have a **symmetric distribution.**"
      ],
      "metadata": {
        "id": "JhYuWN-PFQUy"
      }
    },
    {
      "cell_type": "markdown",
      "source": [
        "---"
      ],
      "metadata": {
        "id": "tFROA4CVFQUy"
      }
    },
    {
      "cell_type": "markdown",
      "source": [
        "## <div style=\"text-align: left; background-color:#CFD9F1 ; font-family: Trebuchet MS; color: #0A3399; padding: 15px; line-height:1;border-radius:1px; margin-bottom: 0em; text-align: center; font-size: 25px;border-style: solid;border-color: dark green;\"> 3. Visualizing \"Volatile Acidity\" Attribute. </div>"
      ],
      "metadata": {
        "id": "E1ixuAvvFQUy"
      }
    },
    {
      "cell_type": "code",
      "source": [
        "numerical_plot(\"volatile acidity\")"
      ],
      "metadata": {
        "execution": {
          "iopub.status.busy": "2023-07-21T06:17:23.363185Z",
          "iopub.execute_input": "2023-07-21T06:17:23.363682Z",
          "iopub.status.idle": "2023-07-21T06:17:24.938866Z",
          "shell.execute_reply.started": "2023-07-21T06:17:23.363651Z",
          "shell.execute_reply": "2023-07-21T06:17:24.937658Z"
        },
        "trusted": true,
        "id": "v06ku6t4FQUz"
      },
      "execution_count": null,
      "outputs": []
    },
    {
      "cell_type": "markdown",
      "source": [
        "<div style=\"border-radius:10px; border:#808080 solid; padding: 15px; background-color: ##F0E68C ; font-size:100%; text-align:left\">\n",
        "\n",
        "<h3 align=\"lefAt\"><font color=brown>💬 Inference:</font></h3>\n",
        "\n",
        "* The feature **Volatile Acidity** is having **almost a symmetric distribution** but the distribution is **right skewed** with a skewness value of **0.729**..\n",
        "* Skewness can lead to several implications like **model performance**, **hypothesis testing** and it returns **biased estimation.**\n",
        "* So we will use **tranformation techniques** to transform thesse feature to have a **symmetric distribution.**"
      ],
      "metadata": {
        "id": "1qh32V1tFQUz"
      }
    },
    {
      "cell_type": "markdown",
      "source": [
        "----"
      ],
      "metadata": {
        "id": "t8ZZuOgVFQUz"
      }
    },
    {
      "cell_type": "markdown",
      "source": [
        "## <div style=\"text-align: left; background-color:#CFD9F1 ; font-family: Trebuchet MS; color: #0A3399; padding: 15px; line-height:1;border-radius:1px; margin-bottom: 0em; text-align: center; font-size: 25px;border-style: solid;border-color: dark green;\"> 4. Visualizing \"Citric Acid\" Attribute. </div>"
      ],
      "metadata": {
        "id": "JGFm5nMiFQU0"
      }
    },
    {
      "cell_type": "code",
      "source": [
        "numerical_plot(\"citric acid\")"
      ],
      "metadata": {
        "execution": {
          "iopub.status.busy": "2023-07-21T06:17:24.940599Z",
          "iopub.execute_input": "2023-07-21T06:17:24.940937Z",
          "iopub.status.idle": "2023-07-21T06:17:26.221143Z",
          "shell.execute_reply.started": "2023-07-21T06:17:24.940908Z",
          "shell.execute_reply": "2023-07-21T06:17:26.220025Z"
        },
        "trusted": true,
        "id": "oyp2kBaeFQU0"
      },
      "execution_count": null,
      "outputs": []
    },
    {
      "cell_type": "markdown",
      "source": [
        "<div style=\"border-radius:10px; border:#808080 solid; padding: 15px; background-color: ##F0E68C ; font-size:100%; text-align:left\">\n",
        "\n",
        "<h3 align=\"lefAt\"><font color=brown>💬 Inference:</font></h3>\n",
        "\n",
        "* The feature **Citric Acid** is having a distribution of **right skewed** with a skewness value of **0.313**.\n",
        "* Although the **skewness is low** but still we try to bring the **skewness close to 0.**\n",
        "* So we will use **tranformation techniques** to transform thesse feature to have a **symmetric distribution.**"
      ],
      "metadata": {
        "id": "NyT_OXXaFQU1"
      }
    },
    {
      "cell_type": "markdown",
      "source": [
        "---"
      ],
      "metadata": {
        "id": "dJKj47NzFQU1"
      }
    },
    {
      "cell_type": "markdown",
      "source": [
        "## <div style=\"text-align: left; background-color:#CFD9F1 ; font-family: Trebuchet MS; color: #0A3399; padding: 15px; line-height:1;border-radius:1px; margin-bottom: 0em; text-align: center; font-size: 25px;border-style: solid;border-color: dark green;\"> 5. Visualizing \"Residual Sugar\" Attribute. </div>"
      ],
      "metadata": {
        "id": "6T5fSKdWFQU2"
      }
    },
    {
      "cell_type": "code",
      "source": [
        "numerical_plot(\"residual sugar\")"
      ],
      "metadata": {
        "execution": {
          "iopub.status.busy": "2023-07-21T06:17:26.222698Z",
          "iopub.execute_input": "2023-07-21T06:17:26.223438Z",
          "iopub.status.idle": "2023-07-21T06:17:29.052233Z",
          "shell.execute_reply.started": "2023-07-21T06:17:26.223391Z",
          "shell.execute_reply": "2023-07-21T06:17:29.05141Z"
        },
        "trusted": true,
        "id": "dbnmtBAEFQU2"
      },
      "execution_count": null,
      "outputs": []
    },
    {
      "cell_type": "markdown",
      "source": [
        "<div style=\"border-radius:10px; border:#808080 solid; padding: 15px; background-color: ##F0E68C ; font-size:100%; text-align:left\">\n",
        "\n",
        "<h3 align=\"lefAt\"><font color=brown>💬 Inference:</font></h3>\n",
        "\n",
        "* The feature **Residual Sugar** is having **almost a symmetric distribution** but the distribution is ** highly right skewed** with a skewness value of **4.548**.\n",
        "* The distrbution is **highly right skewed** because of presence of **outliers.**   \n",
        "* So we will use **tranformation techniques** to transform thesse feature to have a **symmetric distribution** and bring **skewness close to 0.**"
      ],
      "metadata": {
        "id": "7TDwsvWbFQU3"
      }
    },
    {
      "cell_type": "markdown",
      "source": [
        "## <div style=\"text-align: left; background-color:#CFD9F1 ; font-family: Trebuchet MS; color: #0A3399; padding: 15px; line-height:1;border-radius:1px; margin-bottom: 0em; text-align: center; font-size: 25px;border-style: solid;border-color: dark green;\"> 6. Visualizing \"Chlorides\" Attribute. </div>"
      ],
      "metadata": {
        "id": "8k8eGensFQU3"
      }
    },
    {
      "cell_type": "code",
      "source": [
        "numerical_plot(\"chlorides\")"
      ],
      "metadata": {
        "execution": {
          "iopub.status.busy": "2023-07-21T06:17:29.053532Z",
          "iopub.execute_input": "2023-07-21T06:17:29.054092Z",
          "iopub.status.idle": "2023-07-21T06:17:32.447424Z",
          "shell.execute_reply.started": "2023-07-21T06:17:29.05406Z",
          "shell.execute_reply": "2023-07-21T06:17:32.44629Z"
        },
        "trusted": true,
        "id": "XTAC-CI5FQU4"
      },
      "execution_count": null,
      "outputs": []
    },
    {
      "cell_type": "markdown",
      "source": [
        "<div style=\"border-radius:10px; border:#808080 solid; padding: 15px; background-color: ##F0E68C ; font-size:100%; text-align:left\">\n",
        "\n",
        "<h3 align=\"lefAt\"><font color=brown>💬 Inference:</font></h3>\n",
        "\n",
        "* The feature **Chlorides** is having **almost a symmetric distribution** but the distribution is **highly right skewed** with a skewness value of **5.502**..\n",
        "* The distrbution is **highly right skewed** because of presence of **outliers.**   \n",
        "* So we will use **tranformation techniques** to transform thesse feature to have a **symmetric distribution** and bring **skewness close to 0.**"
      ],
      "metadata": {
        "id": "lqM8YCiXFQU4"
      }
    },
    {
      "cell_type": "markdown",
      "source": [
        "---"
      ],
      "metadata": {
        "id": "wwpGUjixFQU4"
      }
    },
    {
      "cell_type": "markdown",
      "source": [
        "## <div style=\"text-align: left; background-color:#CFD9F1 ; font-family: Trebuchet MS; color: #0A3399; padding: 15px; line-height:1;border-radius:1px; margin-bottom: 0em; text-align: center; font-size: 25px;border-style: solid;border-color: dark green;\"> 7. Visualizing \"Free Sulfur Dioxide\" Attribute. </div>"
      ],
      "metadata": {
        "id": "i5BvML_YFQU4"
      }
    },
    {
      "cell_type": "code",
      "source": [
        "numerical_plot(\"free sulfur dioxide\")"
      ],
      "metadata": {
        "execution": {
          "iopub.status.busy": "2023-07-21T06:17:32.44875Z",
          "iopub.execute_input": "2023-07-21T06:17:32.449172Z",
          "iopub.status.idle": "2023-07-21T06:17:33.958053Z",
          "shell.execute_reply.started": "2023-07-21T06:17:32.44914Z",
          "shell.execute_reply": "2023-07-21T06:17:33.95698Z"
        },
        "trusted": true,
        "id": "LaEWF0CnFQU4"
      },
      "execution_count": null,
      "outputs": []
    },
    {
      "cell_type": "markdown",
      "source": [
        "<div style=\"border-radius:10px; border:#808080 solid; padding: 15px; background-color: ##F0E68C ; font-size:100%; text-align:left\">\n",
        "\n",
        "<h3 align=\"lefAt\"><font color=brown>💬 Inference:</font></h3>\n",
        "\n",
        "* The feature **Free Sulfur Dioxide** is having a **highly right skewed distribution** with a skewness value of **1.227**..\n",
        "* The distrbution is **highly right skewed** because of presence of **outliers.**   \n",
        "* So we will use **tranformation techniques** to transform thesse feature to have a **symmetric distribution** and bring **skewness close to 0.**"
      ],
      "metadata": {
        "id": "j-aRFaMLFQU4"
      }
    },
    {
      "cell_type": "markdown",
      "source": [
        "---"
      ],
      "metadata": {
        "id": "-e-l7NbwFQU4"
      }
    },
    {
      "cell_type": "markdown",
      "source": [
        "## <div style=\"text-align: left; background-color:#CFD9F1 ; font-family: Trebuchet MS; color: #0A3399; padding: 15px; line-height:1;border-radius:1px; margin-bottom: 0em; text-align: center; font-size: 25px;border-style: solid;border-color: dark green;\"> 8. Visualizing \"Total Sulfur Dioxide\" Attribute. </div>"
      ],
      "metadata": {
        "id": "RY5GNIIoFQU4"
      }
    },
    {
      "cell_type": "code",
      "source": [
        "numerical_plot(\"total sulfur dioxide\")"
      ],
      "metadata": {
        "execution": {
          "iopub.status.busy": "2023-07-21T06:17:33.959721Z",
          "iopub.execute_input": "2023-07-21T06:17:33.960968Z",
          "iopub.status.idle": "2023-07-21T06:17:35.539173Z",
          "shell.execute_reply.started": "2023-07-21T06:17:33.960921Z",
          "shell.execute_reply": "2023-07-21T06:17:35.53804Z"
        },
        "trusted": true,
        "id": "ZR6jc-KNFQU5"
      },
      "execution_count": null,
      "outputs": []
    },
    {
      "cell_type": "markdown",
      "source": [
        "<div style=\"border-radius:10px; border:#808080 solid; padding: 15px; background-color: ##F0E68C ; font-size:100%; text-align:left\">\n",
        "\n",
        "<h3 align=\"lefAt\"><font color=brown>💬 Inference:</font></h3>\n",
        "\n",
        "* The feature **Total Sulfur Dioxide** is having a **highly right skewed distribution** with a skewness value of **1.54**.\n",
        "* The distrbution is **highly right skewed** because of presence of **outliers.**   \n",
        "* So we will use **tranformation techniques** to transform thesse feature to have a **symmetric distribution** and bring **skewness close to 0.**"
      ],
      "metadata": {
        "id": "obEKOiLHFQU5"
      }
    },
    {
      "cell_type": "markdown",
      "source": [
        "----"
      ],
      "metadata": {
        "id": "Yi_ZmEZ7FQU5"
      }
    },
    {
      "cell_type": "markdown",
      "source": [
        "## <div style=\"text-align: left; background-color:#CFD9F1 ; font-family: Trebuchet MS; color: #0A3399; padding: 15px; line-height:1;border-radius:1px; margin-bottom: 0em; text-align: center; font-size: 25px;border-style: solid;border-color: dark green;\"> 9. Visualizing \"Density\" Attribute. </div>"
      ],
      "metadata": {
        "id": "a47TMmkTFQU5"
      }
    },
    {
      "cell_type": "code",
      "source": [
        "numerical_plot(\"density\")"
      ],
      "metadata": {
        "execution": {
          "iopub.status.busy": "2023-07-21T06:17:35.54074Z",
          "iopub.execute_input": "2023-07-21T06:17:35.54164Z",
          "iopub.status.idle": "2023-07-21T06:17:37.004321Z",
          "shell.execute_reply.started": "2023-07-21T06:17:35.541605Z",
          "shell.execute_reply": "2023-07-21T06:17:37.003212Z"
        },
        "trusted": true,
        "id": "BXRbEOEBFQU5"
      },
      "execution_count": null,
      "outputs": []
    },
    {
      "cell_type": "markdown",
      "source": [
        "<div style=\"border-radius:10px; border:#808080 solid; padding: 15px; background-color: ##F0E68C ; font-size:100%; text-align:left\">\n",
        "\n",
        "<h3 align=\"lefAt\"><font color=brown>💬 Inference:</font></h3>\n",
        "\n",
        "* The feature **Density** is having a perfect **Noraml Distribution** because the **skewness is close to 0**.\n",
        "* So we **don't** have to use aany transformation techniques on this feature."
      ],
      "metadata": {
        "id": "vn92BRWCFQU5"
      }
    },
    {
      "cell_type": "markdown",
      "source": [
        "---"
      ],
      "metadata": {
        "id": "po_eQKuSFQU6"
      }
    },
    {
      "cell_type": "markdown",
      "source": [
        "## <div style=\"text-align: left; background-color:#CFD9F1 ; font-family: Trebuchet MS; color: #0A3399; padding: 15px; line-height:1;border-radius:1px; margin-bottom: 0em; text-align: center; font-size: 25px;border-style: solid;border-color: dark green;\"> 10. Visualizing \"pH\" Attribute. </div>"
      ],
      "metadata": {
        "id": "ojc-cRbeFQU6"
      }
    },
    {
      "cell_type": "code",
      "source": [
        "numerical_plot(\"pH\")"
      ],
      "metadata": {
        "execution": {
          "iopub.status.busy": "2023-07-21T06:17:37.005995Z",
          "iopub.execute_input": "2023-07-21T06:17:37.007071Z",
          "iopub.status.idle": "2023-07-21T06:17:38.618232Z",
          "shell.execute_reply.started": "2023-07-21T06:17:37.007029Z",
          "shell.execute_reply": "2023-07-21T06:17:38.617054Z"
        },
        "trusted": true,
        "id": "tvE_7WKAFQU6"
      },
      "execution_count": null,
      "outputs": []
    },
    {
      "cell_type": "markdown",
      "source": [
        "<div style=\"border-radius:10px; border:#808080 solid; padding: 15px; background-color: ##F0E68C ; font-size:100%; text-align:left\">\n",
        "\n",
        "<h3 align=\"lefAt\"><font color=brown>💬 Inference:</font></h3>\n",
        "\n",
        "* The feature **pH** is having a **Normal Distribution** with a skewness value of **0.232**..\n",
        "* But still the **tails** is little **right skewed** because of presence of **outliers.**\n",
        "* So we will use **transformation techniques** to deal with those outliers."
      ],
      "metadata": {
        "id": "5CU5cBjSFQU6"
      }
    },
    {
      "cell_type": "markdown",
      "source": [
        "----"
      ],
      "metadata": {
        "id": "IpNVYZNyFQU6"
      }
    },
    {
      "cell_type": "markdown",
      "source": [
        "## <div style=\"text-align: left; background-color:#CFD9F1 ; font-family: Trebuchet MS; color: #0A3399; padding: 15px; line-height:1;border-radius:1px; margin-bottom: 0em; text-align: center; font-size: 25px;border-style: solid;border-color: dark green;\"> 11. Visualizing \"Sulphates\" Attribute. </div>"
      ],
      "metadata": {
        "id": "e_NuMHpdFQU6"
      }
    },
    {
      "cell_type": "code",
      "source": [
        "numerical_plot(\"sulphates\")"
      ],
      "metadata": {
        "execution": {
          "iopub.status.busy": "2023-07-21T06:17:38.619593Z",
          "iopub.execute_input": "2023-07-21T06:17:38.619907Z",
          "iopub.status.idle": "2023-07-21T06:17:40.749744Z",
          "shell.execute_reply.started": "2023-07-21T06:17:38.619879Z",
          "shell.execute_reply": "2023-07-21T06:17:40.748633Z"
        },
        "trusted": true,
        "id": "qLd7v0WfFQU6"
      },
      "execution_count": null,
      "outputs": []
    },
    {
      "cell_type": "markdown",
      "source": [
        "<div style=\"border-radius:10px; border:#808080 solid; padding: 15px; background-color: ##F0E68C ; font-size:100%; text-align:left\">\n",
        "\n",
        "<h3 align=\"lefAt\"><font color=brown>💬 Inference:</font></h3>\n",
        "\n",
        "* The feature **Sulphates** is having **almost a symmetric distribution** but the distribution is **highly right skewed** with a skewness value of **2.407**.\n",
        "* The distrbution is **highly right skewed** because of presence of **outliers.**   \n",
        "* So we will use **tranformation techniques** to transform thesse feature to have a **symmetric distribution** and bring **skewness close to 0.**"
      ],
      "metadata": {
        "id": "EBXU_7tVFQU7"
      }
    },
    {
      "cell_type": "markdown",
      "source": [
        "----"
      ],
      "metadata": {
        "id": "B7wbQvSNFQU7"
      }
    },
    {
      "cell_type": "markdown",
      "source": [
        "## <div style=\"text-align: left; background-color:#CFD9F1 ; font-family: Trebuchet MS; color: #0A3399; padding: 15px; line-height:1;border-radius:1px; margin-bottom: 0em; text-align: center; font-size: 25px;border-style: solid;border-color: dark green;\"> 12. Visualizing \"Alcohol\" Attribute. </div>"
      ],
      "metadata": {
        "id": "3IWq6DJrFQU7"
      }
    },
    {
      "cell_type": "code",
      "source": [
        "numerical_plot(\"alcohol\")"
      ],
      "metadata": {
        "execution": {
          "iopub.status.busy": "2023-07-21T06:17:40.751227Z",
          "iopub.execute_input": "2023-07-21T06:17:40.752031Z",
          "iopub.status.idle": "2023-07-21T06:17:42.157876Z",
          "shell.execute_reply.started": "2023-07-21T06:17:40.751995Z",
          "shell.execute_reply": "2023-07-21T06:17:42.156707Z"
        },
        "trusted": true,
        "id": "_o2edAaZFQU7"
      },
      "execution_count": null,
      "outputs": []
    },
    {
      "cell_type": "markdown",
      "source": [
        "<div style=\"border-radius:10px; border:#808080 solid; padding: 15px; background-color: ##F0E68C ; font-size:100%; text-align:left\">\n",
        "\n",
        "<h3 align=\"lefAt\"><font color=brown>💬 Inference:</font></h3>\n",
        "\n",
        "* The feature **Alcohol** is having **Asymmetric Distribution** and the distribution is **highly right skewed** with a skewness value of **0.86**.\n",
        "* The distrbution is **highly right skewed** because of presence of **outliers.**   \n",
        "* So we will use **tranformation techniques** to transform thesse feature to have a **symmetric distribution** and bring **skewness close to 0.**"
      ],
      "metadata": {
        "id": "1FZKgaRNFQU7"
      }
    },
    {
      "cell_type": "markdown",
      "source": [
        "---"
      ],
      "metadata": {
        "id": "RrICNiDsFQU7"
      }
    },
    {
      "cell_type": "markdown",
      "source": [
        "## <div style=\"text-align: left; background-color:#CFD9F1 ; font-family: Trebuchet MS; color: #0A3399; padding: 15px; line-height:1;border-radius:1px; margin-bottom: 0em; text-align: center; font-size: 25px;border-style: solid;border-color: dark green;\"> 13. Visualizing Correlation Among the Independent Atrributes. </div>"
      ],
      "metadata": {
        "id": "g8-TW7EGFQU7"
      }
    },
    {
      "cell_type": "code",
      "source": [
        "columns = df.columns.tolist()\n",
        "columns.remove(\"quality\")  ##Quality is having discrete values that's why it's not the correct way to check its importane.\n",
        "\n",
        "corr = df[columns].corr()\n",
        "\n",
        "plt.figure(figsize=(13.5,10))\n",
        "\n",
        "sns.heatmap(corr,fmt=\".2g\",annot=True ,cmap='YlOrRd_r')\n",
        "plt.title(\"Correlation all Independet Features\",fontweight=\"black\",size=25,pad=20)\n",
        "plt.tight_layout()\n",
        "plt.show()"
      ],
      "metadata": {
        "execution": {
          "iopub.status.busy": "2023-07-21T06:17:42.159359Z",
          "iopub.execute_input": "2023-07-21T06:17:42.159741Z",
          "iopub.status.idle": "2023-07-21T06:17:43.279013Z",
          "shell.execute_reply.started": "2023-07-21T06:17:42.159709Z",
          "shell.execute_reply": "2023-07-21T06:17:43.277845Z"
        },
        "trusted": true,
        "id": "4ClyYjY2FQU8"
      },
      "execution_count": null,
      "outputs": []
    },
    {
      "cell_type": "markdown",
      "source": [
        "<div style=\"border-radius:10px; border:#808080 solid; padding: 15px; background-color: ##F0E68C ; font-size:100%; text-align:left\">\n",
        "\n",
        "<h3 align=\"lefAt\"><font color=brown>💬 Inference:</font></h3>\n",
        "\n",
        "* Many **features** are having **high correlation** with the other features:-\n",
        "    1. **Fixed Acidity** is having high correlation with **citic acid** and **pH** and vice-versa.\n",
        "    2. **Volatile Acidity** is having high correlation with **citic acid** adn vice-versa.\n",
        "    3. **Free Sulfur Dioxide**  is having high correlation with **total  sulfur dioxide**, **pH**, **Sulphates** and vice-versa.\n",
        "    4. **Density** is having high correaltion with **fixed acidity**, **alcohol** and vice-versa.\n",
        "  \n",
        "\n",
        "* **Note:**\n",
        "    * We **can't drop these** correlted features because these features **helps algorithms to create pattern** for prediction."
      ],
      "metadata": {
        "id": "KDPh95uNFQU8"
      }
    },
    {
      "cell_type": "markdown",
      "source": [
        "----"
      ],
      "metadata": {
        "id": "-9VQHvOWFQU8"
      }
    },
    {
      "cell_type": "markdown",
      "source": [
        "<a id=\"1\"></a>\n",
        "# <div style=\"padding:20px;color:white;margin:0;font-size:30px;font-family:Verdana;text-align:center;display:fill;border-radius:5px;background-color:#254E58;overflow:hidden\"><b> 📈 Statistical Analysis - Feature Importance.📈 </b></div>"
      ],
      "metadata": {
        "id": "GNbDZlE_FQU8"
      }
    },
    {
      "cell_type": "markdown",
      "source": [
        "## <div style=\"text-align: left; background-color:#CFD9F1 ; font-family: Trebuchet MS; color: #0A3399; padding: 15px; line-height:1;border-radius:1px; margin-bottom: 0em; text-align: center; font-size: 23px;border-style: solid;border-color: dark green;\"> 1. Performing ANOVA Test to Analyze the Features Importance in Wine Quality. </div>"
      ],
      "metadata": {
        "id": "oUHFB6zXFQU8"
      }
    },
    {
      "cell_type": "code",
      "source": [
        "f_scores = {}\n",
        "p_values = {}\n",
        "\n",
        "for column in columns:\n",
        "    f_score, p_value = stats.f_oneway(df[column],df[\"quality\"])\n",
        "\n",
        "    f_scores[column] = f_score\n",
        "    p_values[column] = p_value"
      ],
      "metadata": {
        "execution": {
          "iopub.status.busy": "2023-07-21T06:17:43.280744Z",
          "iopub.execute_input": "2023-07-21T06:17:43.28117Z",
          "iopub.status.idle": "2023-07-21T06:17:43.295366Z",
          "shell.execute_reply.started": "2023-07-21T06:17:43.281126Z",
          "shell.execute_reply": "2023-07-21T06:17:43.294077Z"
        },
        "trusted": true,
        "id": "iu6CK5XTFQU8"
      },
      "execution_count": null,
      "outputs": []
    },
    {
      "cell_type": "markdown",
      "source": [
        "## <div style=\"text-align: left; background-color:#CFD9F1 ; font-family: Trebuchet MS; color: #0A3399; padding: 15px; line-height:1;border-radius:1px; margin-bottom: 0em; text-align: center; font-size: 25px;border-style: solid;border-color: dark green;\"> 2. Visualizing the F_Score of ANOVA Test of Features. </div>"
      ],
      "metadata": {
        "id": "xOpooRm-FQU8"
      }
    },
    {
      "cell_type": "code",
      "source": [
        "plt.figure(figsize=(15,6))\n",
        "keys = list(f_scores.keys())\n",
        "values = list(f_scores.values())\n",
        "\n",
        "sns.barplot(x=keys, y=values, palette=\"pastel\")\n",
        "plt.title(\"Anova-Test F_scores Comparison\",fontweight=\"black\",size=20,pad=15)\n",
        "plt.xticks(rotation=90)\n",
        "\n",
        "for index,value in enumerate(values):\n",
        "    plt.text(index,value,int(value), ha=\"center\", va=\"bottom\",fontweight=\"black\",size=15)\n",
        "plt.show()"
      ],
      "metadata": {
        "execution": {
          "iopub.status.busy": "2023-07-21T06:17:43.297101Z",
          "iopub.execute_input": "2023-07-21T06:17:43.298746Z",
          "iopub.status.idle": "2023-07-21T06:17:43.821368Z",
          "shell.execute_reply.started": "2023-07-21T06:17:43.298663Z",
          "shell.execute_reply": "2023-07-21T06:17:43.820229Z"
        },
        "trusted": true,
        "id": "WxHVRTuBFQU8"
      },
      "execution_count": null,
      "outputs": []
    },
    {
      "cell_type": "markdown",
      "source": [
        "## <div style=\"text-align: left; background-color:#CFD9F1 ; font-family: Trebuchet MS; color: #0A3399; padding: 15px; line-height:1;border-radius:1px; margin-bottom: 0em; text-align: center; font-size: 25px;border-style: solid;border-color: dark green;\"> 3. Comparing F_Score and P_value of ANOVA Test.  </div>"
      ],
      "metadata": {
        "id": "jJ0zjPBDFQU9"
      }
    },
    {
      "cell_type": "code",
      "source": [
        "test_df = pd.DataFrame({\"Features\":keys,\"F_Score\":values})\n",
        "test_df[\"P_value\"] = list(p_values.values())"
      ],
      "metadata": {
        "execution": {
          "iopub.status.busy": "2023-07-21T06:17:43.822816Z",
          "iopub.execute_input": "2023-07-21T06:17:43.823173Z",
          "iopub.status.idle": "2023-07-21T06:17:43.830128Z",
          "shell.execute_reply.started": "2023-07-21T06:17:43.823142Z",
          "shell.execute_reply": "2023-07-21T06:17:43.828773Z"
        },
        "trusted": true,
        "id": "n0jmbe40FQU9"
      },
      "execution_count": null,
      "outputs": []
    },
    {
      "cell_type": "code",
      "source": [
        "test_df"
      ],
      "metadata": {
        "execution": {
          "iopub.status.busy": "2023-07-21T06:17:43.831412Z",
          "iopub.execute_input": "2023-07-21T06:17:43.831795Z",
          "iopub.status.idle": "2023-07-21T06:17:43.851444Z",
          "shell.execute_reply.started": "2023-07-21T06:17:43.831764Z",
          "shell.execute_reply": "2023-07-21T06:17:43.850634Z"
        },
        "trusted": true,
        "id": "jFvRVzt9FQU9"
      },
      "execution_count": null,
      "outputs": []
    },
    {
      "cell_type": "markdown",
      "source": [
        "<div style=\"border-radius:10px; border:#808080 solid; padding: 15px; background-color: ##F0E68C ; font-size:100%; text-align:left\">\n",
        "\n",
        "<h3 align=\"lefAt\"><font color=brown>💬 Inference:</font></h3>\n",
        "\n",
        "* The **following features showed statistically significant associations with wine quality:**\n",
        "    * **Volatile Acidity.**\n",
        "    * **Citric Acid.**\n",
        "    * **Chlorides.**\n",
        "    * **Density.**\n",
        "    * **pH.**\n",
        "    * **Sulphates.**\n",
        "    * **Alcohol.**\n",
        "    \n",
        "    \n",
        "* The **following features did not show statistically significant associations with wine quality.**\n",
        "    * **Fixed Acidity.**\n",
        "    * **Residual Sugar.**\n",
        "    * **Free Sulfur Dioxide.**\n",
        "    * **Total Sulfur Dioxide.**\n",
        "\n",
        "    \n",
        "    \n",
        "* **Note:**\n",
        "    * **Expect Residual Sugar** feature the other **3 features** were having **high correlation with** other independent features.\n",
        "    * So we **can't drop those 3 features** but if required we **can drop the Residual Sugar** feature."
      ],
      "metadata": {
        "id": "LghtLCr1FQU9"
      }
    },
    {
      "cell_type": "markdown",
      "source": [
        "----"
      ],
      "metadata": {
        "id": "n3jUn_pNFQU9"
      }
    },
    {
      "cell_type": "markdown",
      "source": [
        "<a id=\"1\"></a>\n",
        "# <div style=\"padding:20px;color:white;margin:0;font-size:35px;font-family:Verdana;text-align:center;display:fill;border-radius:5px;background-color:#254E58;overflow:hidden\"><b>⚙️ Data Preprocessing ⚙️</b></div>"
      ],
      "metadata": {
        "id": "8FRnxVhTFQU9"
      }
    },
    {
      "cell_type": "markdown",
      "source": [
        "### 1. Computing Skewness of Each Numeircal Attributes."
      ],
      "metadata": {
        "id": "MLZIhLReFQU9"
      }
    },
    {
      "cell_type": "code",
      "source": [
        "new_df  = df.copy()\n",
        "columns = df.columns.tolist()\n",
        "columns.remove(\"quality\")"
      ],
      "metadata": {
        "execution": {
          "iopub.status.busy": "2023-07-21T06:17:43.857821Z",
          "iopub.execute_input": "2023-07-21T06:17:43.859206Z",
          "iopub.status.idle": "2023-07-21T06:17:43.864348Z",
          "shell.execute_reply.started": "2023-07-21T06:17:43.859165Z",
          "shell.execute_reply": "2023-07-21T06:17:43.863237Z"
        },
        "trusted": true,
        "id": "ajIfK2z2FQU-"
      },
      "execution_count": null,
      "outputs": []
    },
    {
      "cell_type": "code",
      "source": [
        "skew_df = df[columns].skew().to_frame().rename(columns={0:\"Skewness\"})\n",
        "skew_df"
      ],
      "metadata": {
        "execution": {
          "iopub.status.busy": "2023-07-21T06:17:43.866098Z",
          "iopub.execute_input": "2023-07-21T06:17:43.866652Z",
          "iopub.status.idle": "2023-07-21T06:17:43.884358Z",
          "shell.execute_reply.started": "2023-07-21T06:17:43.86662Z",
          "shell.execute_reply": "2023-07-21T06:17:43.883374Z"
        },
        "trusted": true,
        "id": "pgCnRW6SFQU-"
      },
      "execution_count": null,
      "outputs": []
    },
    {
      "cell_type": "markdown",
      "source": [
        "<div style=\"border-radius:10px; border:#808080 solid; padding: 15px; background-color: ##F0E68C ; font-size:100%; text-align:left\">\n",
        "\n",
        "<h3 align=\"lefAt\"><font color=brown>💬 Inference:</font></h3>\n",
        "\n",
        "* Except **Density**, **pH**, **citric acid** all the other features are having **high skewness.**\n",
        "* Skewness can lead to several implications like **model performance**, **hypothesis testing** and it returns **biased estimation.**\n",
        "* So we will use **tranformation techniques** to transform thesse feature to have a **symmetric distribution.**"
      ],
      "metadata": {
        "id": "lcsxWgXuFQU-"
      }
    },
    {
      "cell_type": "markdown",
      "source": [
        "----"
      ],
      "metadata": {
        "id": "sXPY7GyQFQU-"
      }
    },
    {
      "cell_type": "markdown",
      "source": [
        "### 2. Performing Skewness Transformation Analysis using Different Transformation Techniques."
      ],
      "metadata": {
        "id": "mmpzwFGRFQU-"
      }
    },
    {
      "cell_type": "code",
      "source": [
        "columns = df.columns.tolist()\n",
        "columns.remove(\"quality\")\n",
        "skewness_transformation = {}\n",
        "\n",
        "for col in columns:\n",
        "    transformed_log = np.log(df[col])                        # Log Transformation\n",
        "    transformed_boxcox = special.boxcox1p(df[col], 0.15)     # Box-Cox Transformation with lambda=0.15\n",
        "    transformed_inverse = 1 / df[col]                        # Inverse Transformation\n",
        "    transformed_yeojohnson, _ = stats.yeojohnson(df[col])    # Yeo-Johnson Transformation\n",
        "    transformed_cbrt = np.cbrt(df[col])                      # Cube Root Transformation\n",
        "\n",
        "    # Create a dictionary for the skewness values of each transformation\n",
        "    transformation_skewness = {\n",
        "        \"Log Transformation\": stats.skew(transformed_log),\n",
        "        \"Box-Cox Transformation\": stats.skew(transformed_boxcox),\n",
        "        \"Inverse Transformation\": stats.skew(transformed_inverse),\n",
        "        \"Yeo Johnson Transformation\": stats.skew(transformed_yeojohnson),\n",
        "        \"Cube Root Transformation\": stats.skew(transformed_cbrt)}\n",
        "\n",
        "    # Store the transformation skewness values for the column\n",
        "    skewness_transformation[col] = transformation_skewness\n"
      ],
      "metadata": {
        "execution": {
          "iopub.status.busy": "2023-07-21T06:17:43.88586Z",
          "iopub.execute_input": "2023-07-21T06:17:43.886217Z",
          "iopub.status.idle": "2023-07-21T06:17:43.958236Z",
          "shell.execute_reply.started": "2023-07-21T06:17:43.886185Z",
          "shell.execute_reply": "2023-07-21T06:17:43.957078Z"
        },
        "trusted": true,
        "id": "VOU-LPs4FQU-"
      },
      "execution_count": null,
      "outputs": []
    },
    {
      "cell_type": "code",
      "source": [
        "result_df = pd.DataFrame.from_dict(skewness_transformation, orient='index')\n",
        "result_df = pd.concat([skew_df[\"Skewness\"], result_df], axis=1)\n",
        "result_df"
      ],
      "metadata": {
        "execution": {
          "iopub.status.busy": "2023-07-21T06:17:43.95974Z",
          "iopub.execute_input": "2023-07-21T06:17:43.96008Z",
          "iopub.status.idle": "2023-07-21T06:17:43.983068Z",
          "shell.execute_reply.started": "2023-07-21T06:17:43.96005Z",
          "shell.execute_reply": "2023-07-21T06:17:43.981877Z"
        },
        "trusted": true,
        "id": "TW1xAPVdFQU-"
      },
      "execution_count": null,
      "outputs": []
    },
    {
      "cell_type": "markdown",
      "source": [
        "<div style=\"border-radius:10px; border:#808080 solid; padding: 15px; background-color: ##F0E68C ; font-size:100%; text-align:left\">\n",
        "\n",
        "<h3 align=\"lefAt\"><font color=brown>💬 Inference:</font></h3>\n",
        "\n",
        "* Out of all the transformation the **Yeo Johnson Transformation** has given the **best results** by reducing the skewness.\n",
        "* **Inverse transformation** performation is also good on some of the features.\n",
        "* But we will use **Yeo Johnson Transformation**  to achieve th **Normal Distribution.**"
      ],
      "metadata": {
        "id": "KvFDnJnnFQU_"
      }
    },
    {
      "cell_type": "markdown",
      "source": [
        "----"
      ],
      "metadata": {
        "id": "9qCWmOdSFQU_"
      }
    },
    {
      "cell_type": "markdown",
      "source": [
        "### 3. Applying Yeo - Johnson Transformation on Independent variables."
      ],
      "metadata": {
        "id": "ztZZqZK-FQU_"
      }
    },
    {
      "cell_type": "code",
      "source": [
        "for col in columns:\n",
        "    transformed_col,_ = stats.yeojohnson(df[col])\n",
        "    df[col] = transformed_col"
      ],
      "metadata": {
        "execution": {
          "iopub.status.busy": "2023-07-21T06:17:43.984782Z",
          "iopub.execute_input": "2023-07-21T06:17:43.985125Z",
          "iopub.status.idle": "2023-07-21T06:17:44.039752Z",
          "shell.execute_reply.started": "2023-07-21T06:17:43.98508Z",
          "shell.execute_reply": "2023-07-21T06:17:44.03873Z"
        },
        "trusted": true,
        "id": "A988kMCiFQU_"
      },
      "execution_count": null,
      "outputs": []
    },
    {
      "cell_type": "code",
      "source": [
        "df.sample(5)"
      ],
      "metadata": {
        "execution": {
          "iopub.status.busy": "2023-07-21T06:17:44.041045Z",
          "iopub.execute_input": "2023-07-21T06:17:44.041368Z",
          "iopub.status.idle": "2023-07-21T06:17:44.062787Z",
          "shell.execute_reply.started": "2023-07-21T06:17:44.041339Z",
          "shell.execute_reply": "2023-07-21T06:17:44.061545Z"
        },
        "trusted": true,
        "id": "dpLIBp5wFQU_"
      },
      "execution_count": null,
      "outputs": []
    },
    {
      "cell_type": "markdown",
      "source": [
        "---"
      ],
      "metadata": {
        "id": "3DwcAiy8FQU_"
      }
    },
    {
      "cell_type": "markdown",
      "source": [
        "### 4. Comparining Distribution of Features Before & After Transformations."
      ],
      "metadata": {
        "id": "78sHPlueFQU_"
      }
    },
    {
      "cell_type": "code",
      "source": [
        "x=1\n",
        "y=2\n",
        "\n",
        "\n",
        "plt.figure(figsize=(25,60))\n",
        "for col in columns:\n",
        "    plt.subplot(11,2,x)\n",
        "    sns.histplot(new_df[col],kde=True,color=\"purple\")\n",
        "    plt.title(f\"Distribution of {col} Before Transformation\",fontweight=\"black\",size=25,pad=10)\n",
        "    x+=2\n",
        "\n",
        "    plt.subplot(11,2,y)\n",
        "    sns.histplot(df[col],kde=True, color=\"orange\")\n",
        "    plt.title(f\"Distribution of {col} After Transformation\",fontweight=\"black\",size=25,pad=10)\n",
        "    y+=2\n",
        "\n",
        "    plt.tight_layout()"
      ],
      "metadata": {
        "scrolled": true,
        "execution": {
          "iopub.status.busy": "2023-07-21T06:17:44.064118Z",
          "iopub.execute_input": "2023-07-21T06:17:44.065029Z",
          "iopub.status.idle": "2023-07-21T06:18:04.618105Z",
          "shell.execute_reply.started": "2023-07-21T06:17:44.064994Z",
          "shell.execute_reply": "2023-07-21T06:18:04.616977Z"
        },
        "trusted": true,
        "id": "S-N1JybiFQVA"
      },
      "execution_count": null,
      "outputs": []
    },
    {
      "cell_type": "markdown",
      "source": [
        "<div style=\"border-radius:10px; border:#808080 solid; padding: 15px; background-color: ##F0E68C ; font-size:100%; text-align:left\">\n",
        "\n",
        "<h3 align=\"lefAt\"><font color=brown>💬 Inference:</font></h3>\n",
        "\n",
        "* We can clearly observe the **changes** their Distrbutions.\n",
        "* Most of the **features** has achieved **Normal Distribution.**"
      ],
      "metadata": {
        "id": "Xw-V8w-zFQVA"
      }
    },
    {
      "cell_type": "markdown",
      "source": [
        "----"
      ],
      "metadata": {
        "id": "_q9YFtFdFQVA"
      }
    },
    {
      "cell_type": "markdown",
      "source": [
        "### 4. Splitting Target Variable into two Groups."
      ],
      "metadata": {
        "id": "vYWnMSC9FQVA"
      }
    },
    {
      "cell_type": "code",
      "source": [
        "df[\"quality\"].unique()"
      ],
      "metadata": {
        "execution": {
          "iopub.status.busy": "2023-07-21T06:18:04.61932Z",
          "iopub.execute_input": "2023-07-21T06:18:04.620018Z",
          "iopub.status.idle": "2023-07-21T06:18:04.627793Z",
          "shell.execute_reply.started": "2023-07-21T06:18:04.619977Z",
          "shell.execute_reply": "2023-07-21T06:18:04.626541Z"
        },
        "trusted": true,
        "id": "S2LXZBXBFQVA"
      },
      "execution_count": null,
      "outputs": []
    },
    {
      "cell_type": "code",
      "source": [
        "#Condition of Splitting: If quality > 6.5 => \"good\" ELSE => \"bad\"\n",
        "\n",
        "bin_edges = [0,6.5,10]\n",
        "group_names = [\"Bad\",\"Good\"]\n",
        "\n",
        "df[\"quality\"] = pd.cut(df[\"quality\"], bins=bin_edges, labels=group_names)\n",
        "df[\"quality\"].unique()"
      ],
      "metadata": {
        "execution": {
          "iopub.status.busy": "2023-07-21T06:18:04.629378Z",
          "iopub.execute_input": "2023-07-21T06:18:04.629733Z",
          "iopub.status.idle": "2023-07-21T06:18:04.647968Z",
          "shell.execute_reply.started": "2023-07-21T06:18:04.629704Z",
          "shell.execute_reply": "2023-07-21T06:18:04.646703Z"
        },
        "trusted": true,
        "id": "SmZeseEkFQVB"
      },
      "execution_count": null,
      "outputs": []
    },
    {
      "cell_type": "markdown",
      "source": [
        "---"
      ],
      "metadata": {
        "id": "5pNzyKO1FQVB"
      }
    },
    {
      "cell_type": "markdown",
      "source": [
        "### 5. Visualizing the New Distribution of Target Variable."
      ],
      "metadata": {
        "id": "kElRHHZxFQVB"
      }
    },
    {
      "cell_type": "code",
      "source": [
        "plt.figure(figsize=(17,6))\n",
        "plt.subplot(1,2,1)\n",
        "quality_counts = df[\"quality\"].value_counts()\n",
        "sns.barplot(x=quality_counts.index, y=quality_counts.values,palette=[\"#1d7874\",\"#8B0000\"])\n",
        "plt.title(\"Wine Quality Value Counts\",fontweight=\"black\",size=20,pad=20)\n",
        "for i, v in enumerate(quality_counts.values):\n",
        "    plt.text(i, v, v,ha=\"center\", fontweight='black', fontsize=18)\n",
        "\n",
        "plt.subplot(1,2,2)\n",
        "plt.pie(quality_counts, labels=[\"Bad\",\"Good\"], autopct=\"%.2f%%\", textprops={\"fontweight\":\"black\",\"size\":15},\n",
        "        colors = [\"#1d7874\",\"#AC1F29\"],explode=[0,0.1],startangle=90)\n",
        "center_circle = plt.Circle((0, 0), 0.3, fc='white')\n",
        "fig = plt.gcf()\n",
        "fig.gca().add_artist(center_circle)\n",
        "plt.title(\"Wine Quality Values Distrbution\" ,fontweight=\"black\",size=20,pad=10)\n",
        "plt.show()"
      ],
      "metadata": {
        "execution": {
          "iopub.status.busy": "2023-07-21T06:18:04.649852Z",
          "iopub.execute_input": "2023-07-21T06:18:04.650563Z",
          "iopub.status.idle": "2023-07-21T06:18:05.098637Z",
          "shell.execute_reply.started": "2023-07-21T06:18:04.650518Z",
          "shell.execute_reply": "2023-07-21T06:18:05.097794Z"
        },
        "trusted": true,
        "id": "edr5gcT5FQVB"
      },
      "execution_count": null,
      "outputs": []
    },
    {
      "cell_type": "markdown",
      "source": [
        "<div style=\"border-radius:10px; border:#808080 solid; padding: 15px; background-color: ##F0E68C ; font-size:100%; text-align:left\">\n",
        "\n",
        "<h3 align=\"lefAt\"><font color=brown>💬 Inference:</font></h3>\n",
        "\n",
        "* We can still observe **class - imbalance**.\n",
        "* The dataset is having more **Bad Quality Wines** and very **low Good quality wines.**"
      ],
      "metadata": {
        "id": "GIdu91rfFQVB"
      }
    },
    {
      "cell_type": "markdown",
      "source": [
        "---"
      ],
      "metadata": {
        "id": "SWMNi_UQFQVB"
      }
    },
    {
      "cell_type": "markdown",
      "source": [
        "### 6. Encoding Target Variable."
      ],
      "metadata": {
        "id": "36UDf1LFFQVB"
      }
    },
    {
      "cell_type": "code",
      "source": [
        "df[\"quality\"] = df[\"quality\"].replace({\"Bad\":0,\"Good\":1})"
      ],
      "metadata": {
        "execution": {
          "iopub.status.busy": "2023-07-21T06:18:05.100003Z",
          "iopub.execute_input": "2023-07-21T06:18:05.100996Z",
          "iopub.status.idle": "2023-07-21T06:18:05.10976Z",
          "shell.execute_reply.started": "2023-07-21T06:18:05.100947Z",
          "shell.execute_reply": "2023-07-21T06:18:05.108314Z"
        },
        "trusted": true,
        "id": "Spr8eSZmFQVC"
      },
      "execution_count": null,
      "outputs": []
    },
    {
      "cell_type": "code",
      "source": [
        "df.sample(5)"
      ],
      "metadata": {
        "execution": {
          "iopub.status.busy": "2023-07-21T06:18:05.111383Z",
          "iopub.execute_input": "2023-07-21T06:18:05.112299Z",
          "iopub.status.idle": "2023-07-21T06:18:05.138448Z",
          "shell.execute_reply.started": "2023-07-21T06:18:05.112262Z",
          "shell.execute_reply": "2023-07-21T06:18:05.137147Z"
        },
        "trusted": true,
        "id": "Z4ynYfXHFQVC"
      },
      "execution_count": null,
      "outputs": []
    },
    {
      "cell_type": "markdown",
      "source": [
        "----"
      ],
      "metadata": {
        "id": "Ni82C54mFQVC"
      }
    },
    {
      "cell_type": "markdown",
      "source": [
        "### 7. Splitting Dataset using StratifiedKFold Method."
      ],
      "metadata": {
        "id": "CCnmYhKZFQVC"
      }
    },
    {
      "cell_type": "code",
      "source": [
        "df2 = df.drop(columns=\"quality\")\n",
        "n_splits = 5  # Set the number of folds\n",
        "stratified_kfold = StratifiedKFold(n_splits=n_splits, shuffle=True, random_state=42)"
      ],
      "metadata": {
        "execution": {
          "iopub.status.busy": "2023-07-21T06:18:05.140156Z",
          "iopub.execute_input": "2023-07-21T06:18:05.140603Z",
          "iopub.status.idle": "2023-07-21T06:18:05.150159Z",
          "shell.execute_reply.started": "2023-07-21T06:18:05.140569Z",
          "shell.execute_reply": "2023-07-21T06:18:05.148973Z"
        },
        "trusted": true,
        "id": "h1ONaDHrFQVC"
      },
      "execution_count": null,
      "outputs": []
    },
    {
      "cell_type": "code",
      "source": [
        "for train_index, test_index in stratified_kfold.split(df2, df[\"quality\"]):\n",
        "    x_train, x_test = df2.iloc[train_index], df2.iloc[test_index]\n",
        "    y_train, y_test = df[\"quality\"].iloc[train_index], df[\"quality\"].iloc[test_index]"
      ],
      "metadata": {
        "execution": {
          "iopub.status.busy": "2023-07-21T06:18:05.151518Z",
          "iopub.execute_input": "2023-07-21T06:18:05.151871Z",
          "iopub.status.idle": "2023-07-21T06:18:05.169815Z",
          "shell.execute_reply.started": "2023-07-21T06:18:05.151842Z",
          "shell.execute_reply": "2023-07-21T06:18:05.168531Z"
        },
        "trusted": true,
        "id": "xJlmNejUFQVC"
      },
      "execution_count": null,
      "outputs": []
    },
    {
      "cell_type": "code",
      "source": [
        "print(x_train.shape,y_train.shape)\n",
        "print(x_test.shape,y_test.shape)"
      ],
      "metadata": {
        "execution": {
          "iopub.status.busy": "2023-07-21T06:18:05.171245Z",
          "iopub.execute_input": "2023-07-21T06:18:05.171623Z",
          "iopub.status.idle": "2023-07-21T06:18:05.178365Z",
          "shell.execute_reply.started": "2023-07-21T06:18:05.171591Z",
          "shell.execute_reply": "2023-07-21T06:18:05.177174Z"
        },
        "trusted": true,
        "id": "Y-82hsXIFQVC"
      },
      "execution_count": null,
      "outputs": []
    },
    {
      "cell_type": "markdown",
      "source": [
        "<div style=\"border-radius:10px; border:#808080 solid; padding: 15px; background-color: ##F0E68C ; font-size:100%; text-align:left\">\n",
        "\n",
        "<h3 align=\"lefAt\"><font color=brown>💬 Inference:</font></h3>\n",
        "\n",
        "* The data is **splitted** in **two sets** one for Model Training and another for Model performance Testing.\n",
        "* We will use **Train Dataset** to train the model and **Test Dataset** to evaluate the performance of the model."
      ],
      "metadata": {
        "id": "cyYI9zRwFQVD"
      }
    },
    {
      "cell_type": "markdown",
      "source": [
        "----"
      ],
      "metadata": {
        "id": "Qr9W-Im2FQVD"
      }
    },
    {
      "cell_type": "markdown",
      "source": [
        "### 8. Computing Frequeny of Unique Values in Y_Train & Y_Test."
      ],
      "metadata": {
        "id": "UqF-fzDmFQVD"
      }
    },
    {
      "cell_type": "code",
      "source": [
        "unique_df = y_train.value_counts().to_frame().rename(columns={\"quality\":\"Y_train Target frequency\"})\n",
        "unique_df[\"Y_test target Freequency\"] = y_test.value_counts()\n",
        "unique_df"
      ],
      "metadata": {
        "execution": {
          "iopub.status.busy": "2023-07-21T06:18:05.180133Z",
          "iopub.execute_input": "2023-07-21T06:18:05.180643Z",
          "iopub.status.idle": "2023-07-21T06:18:05.198616Z",
          "shell.execute_reply.started": "2023-07-21T06:18:05.180601Z",
          "shell.execute_reply": "2023-07-21T06:18:05.197347Z"
        },
        "trusted": true,
        "id": "QR64x67jFQVD"
      },
      "execution_count": null,
      "outputs": []
    },
    {
      "cell_type": "markdown",
      "source": [
        "<div style=\"border-radius:10px; border:#808080 solid; padding: 15px; background-color: ##F0E68C ; font-size:100%; text-align:left\">\n",
        "\n",
        "<h3 align=\"lefAt\"><font color=brown>💬 Inference:</font></h3>\n",
        "\n",
        "* Both the categories in **target variable** is splitter in such a way that **model learns and create pattern** for both the categories easily."
      ],
      "metadata": {
        "id": "cNoJb3cMFQVD"
      }
    },
    {
      "cell_type": "markdown",
      "source": [
        "----"
      ],
      "metadata": {
        "id": "0U97gZgDFQVE"
      }
    },
    {
      "cell_type": "markdown",
      "source": [
        "<a id=\"1\"></a>\n",
        "# <div style=\"padding:20px;color:white;margin:0;font-size:35px;font-family:Verdana;text-align:center;display:fill;border-radius:5px;background-color:#254E58;overflow:hidden\"><b>🎯 Model Creation using DecisionTree 🎯</b></div>"
      ],
      "metadata": {
        "id": "Hcxlte26FQVE"
      }
    },
    {
      "cell_type": "markdown",
      "source": [
        "### 1. Performing Grid-Search with cross-validation to find the best Parameters for the Model."
      ],
      "metadata": {
        "id": "TA5q0E1MFQVE"
      }
    },
    {
      "cell_type": "code",
      "source": [
        "dtree = DecisionTreeClassifier()"
      ],
      "metadata": {
        "execution": {
          "iopub.status.busy": "2023-07-21T06:19:00.120081Z",
          "iopub.execute_input": "2023-07-21T06:19:00.120524Z",
          "iopub.status.idle": "2023-07-21T06:19:00.126354Z",
          "shell.execute_reply.started": "2023-07-21T06:19:00.120464Z",
          "shell.execute_reply": "2023-07-21T06:19:00.12505Z"
        },
        "trusted": true,
        "id": "VGH4yyRTFQVE"
      },
      "execution_count": null,
      "outputs": []
    },
    {
      "cell_type": "code",
      "source": [
        "param_grid = {\"max_depth\":[3,4,5,6,7,8,9,10],\n",
        "              \"min_samples_split\":[2,3,4,5,6,7,8],\n",
        "              \"min_samples_leaf\":[1,2,3,4,5,6,7,8],\n",
        "              \"criterion\":[\"gini\",\"entropy\"],\n",
        "              \"splitter\":[\"best\",\"random\"],\n",
        "              \"max_features\":[\"sqrt\",None],\n",
        "              \"random_state\":[0,42]}"
      ],
      "metadata": {
        "execution": {
          "iopub.status.busy": "2023-07-21T06:19:03.619045Z",
          "iopub.execute_input": "2023-07-21T06:19:03.619557Z",
          "iopub.status.idle": "2023-07-21T06:19:03.626567Z",
          "shell.execute_reply.started": "2023-07-21T06:19:03.619482Z",
          "shell.execute_reply": "2023-07-21T06:19:03.625387Z"
        },
        "trusted": true,
        "id": "6ek4hVvYFQVE"
      },
      "execution_count": null,
      "outputs": []
    },
    {
      "cell_type": "code",
      "source": [
        "grid_search = GridSearchCV(dtree, param_grid, cv=5, n_jobs=-1)\n",
        "\n",
        "grid_search.fit(x_train,y_train)"
      ],
      "metadata": {
        "scrolled": true,
        "execution": {
          "iopub.status.busy": "2023-07-21T06:21:23.782255Z",
          "iopub.execute_input": "2023-07-21T06:21:23.782715Z",
          "iopub.status.idle": "2023-07-21T06:22:35.730212Z",
          "shell.execute_reply.started": "2023-07-21T06:21:23.782673Z",
          "shell.execute_reply": "2023-07-21T06:22:35.728127Z"
        },
        "trusted": true,
        "id": "2ki48EGsFQVF"
      },
      "execution_count": null,
      "outputs": []
    },
    {
      "cell_type": "markdown",
      "source": [
        "---"
      ],
      "metadata": {
        "id": "_lYv9PL9FQVF"
      }
    },
    {
      "cell_type": "markdown",
      "source": [
        "### 2. Fetching the Best Parameters for DecisionTree Model."
      ],
      "metadata": {
        "id": "lmVULJxFFQVF"
      }
    },
    {
      "cell_type": "code",
      "source": [
        "best_parameters = grid_search.best_params_\n",
        "\n",
        "print(\"Best Parameters for DecisionTree Model is:\\n\")\n",
        "best_parameters"
      ],
      "metadata": {
        "trusted": true,
        "id": "C54Co2q2FQVF"
      },
      "execution_count": null,
      "outputs": []
    },
    {
      "cell_type": "markdown",
      "source": [
        "---"
      ],
      "metadata": {
        "id": "nTDC1Q_fFQVF"
      }
    },
    {
      "cell_type": "markdown",
      "source": [
        "### 3. Creating DecisionTree Model Using Best Parameters."
      ],
      "metadata": {
        "id": "_Z_V_YeIFQVG"
      }
    },
    {
      "cell_type": "code",
      "source": [
        "dtree = DecisionTreeClassifier(**best_parameters)\n",
        "\n",
        "dtree.fit(x_train,y_train)"
      ],
      "metadata": {
        "trusted": true,
        "id": "PnykQTGoFQVG"
      },
      "execution_count": null,
      "outputs": []
    },
    {
      "cell_type": "markdown",
      "source": [
        "---"
      ],
      "metadata": {
        "id": "ZhJ_geqKFQVG"
      }
    },
    {
      "cell_type": "markdown",
      "source": [
        "### 4. Computing Model Accuracy."
      ],
      "metadata": {
        "id": "rwYIpm4tFQVG"
      }
    },
    {
      "cell_type": "code",
      "source": [
        "y_train_pred = dtree.predict(x_train)\n",
        "y_test_pred = dtree.predict(x_test)\n",
        "\n",
        "print(\"Accuracy Score of Model on Training Data is =>\",round(accuracy_score(y_train,y_train_pred)*100,2),\"%\")\n",
        "print(\"Accuracy Score of Model on Testing Data  is =>\",round(accuracy_score(y_test,y_test_pred)*100,2),\"%\")"
      ],
      "metadata": {
        "trusted": true,
        "id": "hjjsx0JBFQVG"
      },
      "execution_count": null,
      "outputs": []
    },
    {
      "cell_type": "markdown",
      "source": [
        "<div style=\"border-radius:10px; border:#808080 solid; padding: 15px; background-color: ##F0E68C ; font-size:100%; text-align:left\">\n",
        "\n",
        "<h3 align=\"lefAt\"><font color=brown>💬 Inference:</font></h3>\n",
        "\n",
        "* The model has obtained **88 % accuracy** on training Dataset and **86 % accuracy** on testing dataset.\n",
        "* So therre's **No underfitting or Overfitting** in the model.\n",
        "* The model is having a kind of **best fitting.**"
      ],
      "metadata": {
        "id": "2wFWUHApFQVG"
      }
    },
    {
      "cell_type": "markdown",
      "source": [
        "---"
      ],
      "metadata": {
        "id": "Ch3u16jhFQVG"
      }
    },
    {
      "cell_type": "markdown",
      "source": [
        "### 5. Model Evaluation using Different Metric Values."
      ],
      "metadata": {
        "id": "csv3VfZFFQVG"
      }
    },
    {
      "cell_type": "code",
      "source": [
        "print(\"F1 Score of the Model is =>\",f1_score(y_test,y_test_pred, average=\"weighted\"))\n",
        "print(\"Recall Score of the Model is =>\",recall_score(y_test,y_test_pred, average=\"weighted\"))\n",
        "print(\"Precision Score of the Model is =>\",precision_score(y_test,y_test_pred, average=\"weighted\"))"
      ],
      "metadata": {
        "trusted": true,
        "id": "UppDRIfPFQVG"
      },
      "execution_count": null,
      "outputs": []
    },
    {
      "cell_type": "markdown",
      "source": [
        "<div style=\"border-radius:10px; border:#808080 solid; padding: 15px; background-color: ##F0E68C ; font-size:100%; text-align:left\">\n",
        "\n",
        "<h3 align=\"lefAt\"><font color=brown>💬 Inference:</font></h3>\n",
        "\n",
        "* We can observe that **recall, precision, and F1 score are approxiamately same**, it means that our **model is achieving perfect balance between** correctly identifying **positive samples (recall)** and minimizing **false positives (precision).**\n",
        "    \n",
        "    \n",
        "* The **high values** for **F1 score, recall score, and precision score**, all of which are **more than 0.8.**\n",
        "* These **metrics suggest** that the **model achieves good accuracy** in predicting the **positive class.**"
      ],
      "metadata": {
        "id": "AMTpKgOJFQVH"
      }
    },
    {
      "cell_type": "markdown",
      "source": [
        "---"
      ],
      "metadata": {
        "id": "oTxoauIZFQVH"
      }
    },
    {
      "cell_type": "markdown",
      "source": [
        "### 6. Finding Importance of Features in DecisionTreeClassifier."
      ],
      "metadata": {
        "id": "bPbSJ2gdFQVH"
      }
    },
    {
      "cell_type": "code",
      "source": [
        "imp_df = pd.DataFrame({\"Feature Name\":x_train.columns,\n",
        "                       \"Importance\":dtree.feature_importances_})"
      ],
      "metadata": {
        "trusted": true,
        "id": "GbycBwA8FQVH"
      },
      "execution_count": null,
      "outputs": []
    },
    {
      "cell_type": "code",
      "source": [
        "features = imp_df.sort_values(by=\"Importance\",ascending=False)\n",
        "\n",
        "plt.figure(figsize=(12,7))\n",
        "sns.barplot(x=\"Importance\", y=\"Feature Name\", data=features, palette=\"plasma\")\n",
        "plt.title(\"Feature Importance in the Model Prediction\", fontweight=\"black\", size=20, pad=20)\n",
        "plt.yticks(size=12)\n",
        "plt.show()"
      ],
      "metadata": {
        "trusted": true,
        "id": "iOermFDNFQVH"
      },
      "execution_count": null,
      "outputs": []
    },
    {
      "cell_type": "markdown",
      "source": [
        "<div style=\"border-radius:10px; border:#808080 solid; padding: 15px; background-color: ##F0E68C ; font-size:100%; text-align:left\">\n",
        "\n",
        "<h3 align=\"lefAt\"><font color=brown>💬 Inference:</font></h3>\n",
        "\n",
        "* The **key factors** that significantly influence the **quality of wine** are:-\n",
        "    * **`Alcohol`**, **`Sulphates`**, and **`Volatile Acidity`**.\n",
        "    \n",
        "    \n",
        "* The **minimal impact** of features on the **wine quality** are:-\n",
        "    * **`free sulfur dioxide`**, **`pH`**, and **`Residual Sugar`**"
      ],
      "metadata": {
        "id": "YqZtiAfUFQVH"
      }
    },
    {
      "cell_type": "markdown",
      "source": [
        "----"
      ],
      "metadata": {
        "id": "p-SfgwDLFQVH"
      }
    },
    {
      "cell_type": "markdown",
      "source": [
        "### 7. SHAP Summary Plot: Explaining Model Predictions with Feature Importance."
      ],
      "metadata": {
        "id": "XjnvYarTFQVI"
      }
    },
    {
      "cell_type": "code",
      "source": [
        "import shap\n",
        "explainer = shap.TreeExplainer(dtree)\n",
        "shap_values = explainer.shap_values(x_test)\n",
        "\n",
        "plt.title(\"Feature Importance and Effects on Predictions\",fontweight=\"black\",pad=20,size=18)\n",
        "shap.summary_plot(shap_values[1], x_test.values, feature_names = x_test.columns,plot_size=(14,8))"
      ],
      "metadata": {
        "trusted": true,
        "id": "ir2atY2BFQVI"
      },
      "execution_count": null,
      "outputs": []
    },
    {
      "cell_type": "markdown",
      "source": [
        "<div style=\"border-radius:10px; border:#808080 solid; padding: 15px; background-color: ##F0E68C ; font-size:100%; text-align:left\">\n",
        "\n",
        "<h3 align=\"lefAt\"><font color=brown>💬 Inference:</font></h3>\n",
        "\n",
        "* The **red color represents high feature values**, indicating that the **feature positively contributes** for **increasing the prediction value.**\n",
        "* The **blue color represents low feature values,** indicating that the **feature negatively contributes** for **decreasing the prediction value.**"
      ],
      "metadata": {
        "id": "6pmTKHLvFQVI"
      }
    },
    {
      "cell_type": "markdown",
      "source": [
        "---"
      ],
      "metadata": {
        "id": "TMLYAvRZFQVI"
      }
    },
    {
      "cell_type": "markdown",
      "source": [
        "### 8. Model Evaluation using Confusion Matrix."
      ],
      "metadata": {
        "id": "9oVFyqXTFQVI"
      }
    },
    {
      "cell_type": "code",
      "source": [
        "cm = confusion_matrix(y_test,y_test_pred)\n",
        "\n",
        "plt.figure(figsize=(15,6))\n",
        "sns.heatmap(data=cm, linewidth=.5, annot=True, fmt=\"g\", cmap=\"Set1\")\n",
        "plt.title(\"Model Evaluation using Confusion Matrix\",fontsize=20,pad=20,fontweight=\"black\")\n",
        "plt.ylabel(\"Actual Labels\")\n",
        "plt.xlabel(\"Predicted Labels\")\n",
        "plt.show()"
      ],
      "metadata": {
        "trusted": true,
        "id": "XFPa0kT5FQVJ"
      },
      "execution_count": null,
      "outputs": []
    },
    {
      "cell_type": "markdown",
      "source": [
        "<div style=\"border-radius:10px; border:#808080 solid; padding: 15px; background-color: ##F0E68C ; font-size:100%; text-align:left\">\n",
        "\n",
        "<h3 align=\"lefAt\"><font color=brown>💬 Inference:</font></h3>\n",
        "\n",
        "* **Strong True Positive Rate:** The model achieved a high number of true positive predictions, indicating its ability to correctly identify positive cases. This suggests that the model is effective in accurately classifying the desired outcome.\n",
        "\n",
        "    \n",
        "* **Need of Improvement in False Negative Rate:** The presence of a relatively high number of false negatives suggests that the model may have missed identifying some actual positive cases. This indicates a need for further refinement to enhance the model's ability to capture all positive cases.</div>"
      ],
      "metadata": {
        "id": "SgGdv44wFQVJ"
      }
    },
    {
      "cell_type": "markdown",
      "source": [
        "---"
      ],
      "metadata": {
        "id": "IJCNxyMdFQVJ"
      }
    },
    {
      "cell_type": "markdown",
      "source": [
        "### 9. Model Evaluation: ROC Curve and Area Under the Curve (AUC)"
      ],
      "metadata": {
        "id": "F2hvHnusFQVJ"
      }
    },
    {
      "cell_type": "code",
      "source": [
        "y_pred_proba = dtree.predict_proba(x_test)[:][:,1]\n",
        "\n",
        "df_actual_predicted = pd.concat([pd.DataFrame(np.array(y_test), columns=[\"y_actual\"])])\n",
        "df_actual_predicted.index = y_test.index\n",
        "\n",
        "\n",
        "fpr, tpr, thresholds = roc_curve(df_actual_predicted[\"y_actual\"], y_pred_proba)\n",
        "auc = roc_auc_score(df_actual_predicted[\"y_actual\"], y_pred_proba)\n",
        "\n",
        "plt.figure(figsize=(8, 6))\n",
        "plt.plot(fpr, tpr, label=f\"AUC = {auc:.2f}\",color=\"green\")\n",
        "plt.plot([0, 1], [0, 1], linestyle=\"--\", color=\"black\")\n",
        "plt.xlabel(\"False Positive Rate\")\n",
        "plt.ylabel(\"True Positive Rate\")\n",
        "plt.title(\"ROC Curve\",pad=20,fontweight=\"black\")\n",
        "plt.legend()\n",
        "plt.show()"
      ],
      "metadata": {
        "trusted": true,
        "id": "aaM2c9BcFQVJ"
      },
      "execution_count": null,
      "outputs": []
    },
    {
      "cell_type": "markdown",
      "source": [
        "<div style=\"border-radius:10px; border:#808080 solid; padding: 15px; background-color: ##F0E68C ; font-size:100%; text-align:left\">\n",
        "\n",
        "<h3 align=\"lefAt\"><font color=brown>💬 Inference:</font></h3>\n",
        "\n",
        "1. An **AUC (Area Under the Curve) value of 0.77** suggests that the model has **strong discriminative power.**\n",
        "2. This suggests that the model has a **high ability to distinguish between positive and negative instances**, indicating its effectiveness in making accurate predictions.\n",
        "3. The **model has a relatively high probability** of ranking a randomly selected positive instance higher than a randomly selected negative instance."
      ],
      "metadata": {
        "id": "Hjo8I20XFQVJ"
      }
    },
    {
      "cell_type": "markdown",
      "source": [
        "---"
      ],
      "metadata": {
        "id": "aDHkWQ2wFQVK"
      }
    },
    {
      "cell_type": "markdown",
      "source": [
        "<a id=\"1\"></a>\n",
        "# <div style=\"padding:20px;color:white;margin:0;font-size:35px;font-family:Verdana;text-align:center;display:fill;border-radius:5px;background-color:#254E58;overflow:hidden\"><b>🎯 Model Creation using RandomForest 🎯</b></div>"
      ],
      "metadata": {
        "id": "OMiX0xIUFQVK"
      }
    },
    {
      "cell_type": "markdown",
      "source": [
        "### 1. Performing Grid-Search with cross-validation to find the best Parameters for the Model."
      ],
      "metadata": {
        "id": "-E0II5TLFQVK"
      }
    },
    {
      "cell_type": "code",
      "source": [
        "rfc = RandomForestClassifier()"
      ],
      "metadata": {
        "trusted": true,
        "id": "R7RQPir6FQVK"
      },
      "execution_count": null,
      "outputs": []
    },
    {
      "cell_type": "code",
      "source": [
        "param_grid = {\"max_depth\":[3,4,5,6,7,8],\n",
        "              \"min_samples_split\":[3,4,5,6,7,8],\n",
        "              \"min_samples_leaf\":[3,4,5,6,7,8],\n",
        "              \"n_estimators\": [50,70,90,100],\n",
        "              \"criterion\":[\"gini\",\"entropy\"]}"
      ],
      "metadata": {
        "trusted": true,
        "id": "JBUJSveBFQVK"
      },
      "execution_count": null,
      "outputs": []
    },
    {
      "cell_type": "code",
      "source": [
        "grid_search = GridSearchCV(rfc, param_grid, cv=5, n_jobs=-1)\n",
        "\n",
        "grid_search.fit(x_train,y_train)"
      ],
      "metadata": {
        "scrolled": true,
        "trusted": true,
        "id": "AfBSgoVBFQVK"
      },
      "execution_count": null,
      "outputs": []
    },
    {
      "cell_type": "markdown",
      "source": [
        "---"
      ],
      "metadata": {
        "id": "FAL4AOjOFQVK"
      }
    },
    {
      "cell_type": "markdown",
      "source": [
        "### 2. Fetching the Best Parameters for RandomForest Model."
      ],
      "metadata": {
        "id": "meAECF6NFQVL"
      }
    },
    {
      "cell_type": "code",
      "source": [
        "best_parameters = grid_search.best_params_\n",
        "\n",
        "print(\"Best Parameters for RandomForest Model is:\\n\\n\")\n",
        "best_parameters"
      ],
      "metadata": {
        "trusted": true,
        "id": "xXlDPAJVFQVL"
      },
      "execution_count": null,
      "outputs": []
    },
    {
      "cell_type": "markdown",
      "source": [
        "---"
      ],
      "metadata": {
        "id": "RLXQ433vFQVL"
      }
    },
    {
      "cell_type": "markdown",
      "source": [
        "### 3. Creating RandomForest Model Using Best Parameters."
      ],
      "metadata": {
        "id": "8KV7hSGbFQVL"
      }
    },
    {
      "cell_type": "code",
      "source": [
        "rfc = RandomForestClassifier(**best_parameters)\n",
        "\n",
        "rfc.fit(x_train,y_train)"
      ],
      "metadata": {
        "trusted": true,
        "id": "Nw5D2-5QFQVL"
      },
      "execution_count": null,
      "outputs": []
    },
    {
      "cell_type": "markdown",
      "source": [
        "----"
      ],
      "metadata": {
        "id": "1NtTxpRMFQVL"
      }
    },
    {
      "cell_type": "markdown",
      "source": [
        "### 4. Computing Model Accuracy."
      ],
      "metadata": {
        "id": "u8p-ZMzvFQVL"
      }
    },
    {
      "cell_type": "code",
      "source": [
        "y_train_pred = rfc.predict(x_train)\n",
        "y_test_pred  = rfc.predict(x_test)\n",
        "\n",
        "print(\"Accuracy Score of Model on Training Data is =>\",round(accuracy_score(y_train,y_train_pred)*100,2),\"%\")\n",
        "print(\"Accuracy Score of Model on Testing Data  is =>\",round(accuracy_score(y_test,y_test_pred)*100,2),\"%\")"
      ],
      "metadata": {
        "trusted": true,
        "id": "V3aWkyThFQVL"
      },
      "execution_count": null,
      "outputs": []
    },
    {
      "cell_type": "markdown",
      "source": [
        "<div style=\"border-radius:10px; border:#808080 solid; padding: 15px; background-color: ##F0E68C ; font-size:100%; text-align:left\">\n",
        "\n",
        "<h3 align=\"lefAt\"><font color=brown>💬 Inference:</font></h3>\n",
        "\n",
        "* The model has obtained **90 % accuracy** on training Dataset and **87 % accuracy** on testing dataset.\n",
        "* So there's **No underfitting or Overfitting** in the model.\n",
        "* The model is having a kind of **best fitting.**"
      ],
      "metadata": {
        "id": "FpoYGaDNFQVM"
      }
    },
    {
      "cell_type": "markdown",
      "source": [
        "---"
      ],
      "metadata": {
        "id": "7RJ4QQiBFQVM"
      }
    },
    {
      "cell_type": "markdown",
      "source": [
        "### 5. Model Evaluation using Different Metric Values."
      ],
      "metadata": {
        "id": "8Y5jcUCAFQVM"
      }
    },
    {
      "cell_type": "code",
      "source": [
        "print(\"F1 Score of the Model is =>\",f1_score(y_test,y_test_pred,average=\"weighted\"))\n",
        "print(\"Recall Score of the Model is =>\",recall_score(y_test,y_test_pred,average=\"weighted\"))\n",
        "print(\"Precision Score of the Model is =>\",precision_score(y_test,y_test_pred,average=\"weighted\"))"
      ],
      "metadata": {
        "trusted": true,
        "id": "nF6TpnZxFQVM"
      },
      "execution_count": null,
      "outputs": []
    },
    {
      "cell_type": "markdown",
      "source": [
        "<div style=\"border-radius:10px; border:#808080 solid; padding: 15px; background-color: ##F0E68C ; font-size:100%; text-align:left\">\n",
        "\n",
        "<h3 align=\"lefAt\"><font color=brown>💬 Inference:</font></h3>\n",
        "\n",
        "* We can observe that **recall, precision, and F1 score are approxiamately same**, it means that our **model is achieving perfect balance between** correctly identifying **positive samples (recall)** and minimizing **false positives (precision).**\n",
        "    \n",
        "    \n",
        "* The **high values** for **F1 score, recall score, and precision score**, all of which are **more than 0.8.**\n",
        "* These **metrics suggest** that the **model achieves good accuracy** in predicting the **positive class.**"
      ],
      "metadata": {
        "id": "W5kwA7zyFQVN"
      }
    },
    {
      "cell_type": "markdown",
      "source": [
        "---"
      ],
      "metadata": {
        "id": "Mu4qwxQ5FQVN"
      }
    },
    {
      "cell_type": "markdown",
      "source": [
        "### 6. Finding Importance of Features in RandomForest Model."
      ],
      "metadata": {
        "id": "Bgwm0rDMFQVN"
      }
    },
    {
      "cell_type": "code",
      "source": [
        "imp_df = pd.DataFrame({\"Feature Name\":x_train.columns,\n",
        "                       \"Importance\":rfc.feature_importances_})"
      ],
      "metadata": {
        "trusted": true,
        "id": "CkDz9R-PFQVN"
      },
      "execution_count": null,
      "outputs": []
    },
    {
      "cell_type": "code",
      "source": [
        "features = imp_df.sort_values(by=\"Importance\",ascending=False)\n",
        "\n",
        "plt.figure(figsize=(12,7))\n",
        "sns.barplot(x=\"Importance\", y=\"Feature Name\", data=features, palette=\"plasma\")\n",
        "plt.title(\"Feature Importance in the Model Prediction\", fontweight=\"black\", size=20, pad=20)\n",
        "plt.yticks(size=12)\n",
        "plt.show()"
      ],
      "metadata": {
        "trusted": true,
        "id": "OBg5M_ozFQVN"
      },
      "execution_count": null,
      "outputs": []
    },
    {
      "cell_type": "markdown",
      "source": [
        "<div style=\"border-radius:10px; border:#808080 solid; padding: 15px; background-color: ##F0E68C ; font-size:100%; text-align:left\">\n",
        "\n",
        "<h3 align=\"lefAt\"><font color=brown>💬 Inference:</font></h3>\n",
        "\n",
        "* The **key factors** that significantly influence the **deactivation of customers banking facilities** are:-\n",
        "    * **`Alcohol`**, **`Sulphates`**, and **`Volatilee Acidity`**.\n",
        "    \n",
        "    \n",
        "* The **minimal impact** of features on the **deactivation of customers' banking facilities** are:-\n",
        "    * **`Density`**, **`Free Sulfur Dioxide`**, and **`pH`**."
      ],
      "metadata": {
        "id": "LJnFHc5BFQVN"
      }
    },
    {
      "cell_type": "markdown",
      "source": [
        "----"
      ],
      "metadata": {
        "id": "4gB4Bdh7FQVN"
      }
    },
    {
      "cell_type": "markdown",
      "source": [
        "### 7. SHAP Summary Plot: Explaining Model Predictions with Feature Importance."
      ],
      "metadata": {
        "id": "DkIYeytEFQVN"
      }
    },
    {
      "cell_type": "code",
      "source": [
        "import shap\n",
        "explainer = shap.TreeExplainer(rfc)\n",
        "shap_values = explainer.shap_values(x_test)\n",
        "\n",
        "plt.title(\"Feature Importance and Effects on Predictions\",fontweight=\"black\",pad=20,size=18)\n",
        "shap.summary_plot(shap_values[1], x_test.values, feature_names = x_test.columns,plot_size=(14,8))"
      ],
      "metadata": {
        "trusted": true,
        "id": "8ojChBRIFQVN"
      },
      "execution_count": null,
      "outputs": []
    },
    {
      "cell_type": "markdown",
      "source": [
        "<div style=\"border-radius:10px; border:#808080 solid; padding: 15px; background-color: ##F0E68C ; font-size:100%; text-align:left\">\n",
        "\n",
        "<h3 align=\"lefAt\"><font color=brown>💬 Inference:</font></h3>\n",
        "\n",
        "* The **red color represents high feature values**, indicating that the **feature positively contributes** for **increasing the prediction value.**\n",
        "* The **blue color represents low feature values,** indicating that the **feature negatively contributes** for **decreasing the prediction value.**"
      ],
      "metadata": {
        "id": "25tMjfTDFQVO"
      }
    },
    {
      "cell_type": "markdown",
      "source": [
        "---"
      ],
      "metadata": {
        "id": "GKNKxZp9FQVO"
      }
    },
    {
      "cell_type": "markdown",
      "source": [
        "### 8. Model Evaluation using Confusion Matrix."
      ],
      "metadata": {
        "id": "IuBwCFJqFQVO"
      }
    },
    {
      "cell_type": "code",
      "source": [
        "cm = confusion_matrix(y_test,y_test_pred)\n",
        "\n",
        "plt.figure(figsize=(15,6))\n",
        "sns.heatmap(data=cm, linewidth=.5, annot=True, fmt=\"g\", cmap=\"Set1\")\n",
        "plt.title(\"Model Evaluation using Confusion Matrix\",fontsize=20,pad=20,fontweight=\"black\")\n",
        "plt.ylabel(\"Actual Labels\")\n",
        "plt.xlabel(\"Predicted Labels\")\n",
        "plt.show()"
      ],
      "metadata": {
        "trusted": true,
        "id": "r2kp5ymLFQVO"
      },
      "execution_count": null,
      "outputs": []
    },
    {
      "cell_type": "markdown",
      "source": [
        "<div style=\"border-radius:10px; border:#808080 solid; padding: 15px; background-color: ##F0E68C ; font-size:100%; text-align:left\">\n",
        "\n",
        "<h3 align=\"lefAt\"><font color=brown>💬 Inference:</font></h3>\n",
        "\n",
        "* **Strong True Positive Rate:** The model achieved a high number of true positive predictions, indicating its ability to correctly identify positive cases. This suggests that the model is effective in accurately classifying the desired outcome.\n",
        "\n",
        "    \n",
        "* **Need of Improvement in False Negative Rate:** The presence of a relatively high number of false negatives suggests that the model may have missed identifying some actual positive cases. This indicates a need for further refinement to enhance the model's ability to capture all positive cases.</div>"
      ],
      "metadata": {
        "id": "D6WSQeEFFQVO"
      }
    },
    {
      "cell_type": "markdown",
      "source": [
        "---"
      ],
      "metadata": {
        "id": "lDFLSU6pFQVO"
      }
    },
    {
      "cell_type": "markdown",
      "source": [
        "### 9. Model Evaluation: ROC Curve and Area Under the Curve (AUC)"
      ],
      "metadata": {
        "id": "uan34QHNFQVO"
      }
    },
    {
      "cell_type": "code",
      "source": [
        "y_pred_proba = rfc.predict_proba(x_test)[:][:,1]\n",
        "\n",
        "df_actual_predicted = pd.concat([pd.DataFrame(np.array(y_test), columns=[\"y_actual\"])])\n",
        "df_actual_predicted.index = y_test.index\n",
        "\n",
        "\n",
        "fpr, tpr, thresholds = roc_curve(df_actual_predicted[\"y_actual\"], y_pred_proba)\n",
        "auc = roc_auc_score(df_actual_predicted[\"y_actual\"], y_pred_proba)\n",
        "\n",
        "plt.figure(figsize=(8, 6))\n",
        "plt.plot(fpr, tpr, label=f\"AUC = {auc:.2f}\",color=\"green\")\n",
        "plt.plot([0, 1], [0, 1], linestyle=\"--\", color=\"black\")\n",
        "plt.xlabel(\"False Positive Rate\")\n",
        "plt.ylabel(\"True Positive Rate\")\n",
        "plt.title(\"ROC Curve\",pad=20,fontweight=\"black\")\n",
        "plt.legend()\n",
        "plt.show()"
      ],
      "metadata": {
        "trusted": true,
        "id": "QHQfsxfxFQVO"
      },
      "execution_count": null,
      "outputs": []
    },
    {
      "cell_type": "markdown",
      "source": [
        "<div style=\"border-radius:10px; border:#808080 solid; padding: 15px; background-color: ##F0E68C ; font-size:100%; text-align:left\">\n",
        "\n",
        "<h3 align=\"lefAt\"><font color=brown>💬 Inference:</font></h3>\n",
        "\n",
        "    \n",
        "1. An **AUC (Area Under the Curve) value of 0.83** suggests that the model has **strong discriminative power.**\n",
        "2. This suggests that the model has a **high ability to distinguish between positive and negative instances**, indicating its effectiveness in making accurate predictions.\n",
        "3. The **model has a relatively high probability** of ranking a randomly selected positive instance higher than a randomly selected negative instance."
      ],
      "metadata": {
        "id": "WKG8Va85FQVO"
      }
    },
    {
      "cell_type": "markdown",
      "source": [
        "---"
      ],
      "metadata": {
        "id": "Y_rztjjyFQVS"
      }
    },
    {
      "cell_type": "markdown",
      "source": [
        "# <div style=\"padding:20px;color:white;margin:0;font-size:35px;font-family:Verdana;text-align:center;display:fill;border-radius:5px;background-color:#254E58;overflow:hidden\"><b>🎈 Conclusion 🎈</b></div>"
      ],
      "metadata": {
        "id": "mU0Cd5LjFQVS"
      }
    },
    {
      "cell_type": "markdown",
      "source": [
        "<div style=\"border-radius:10px; border:#808080 solid; padding: 15px; background-color: ##F0E68C ; font-size:100%; text-align:left\">\n",
        "\n",
        "<h3 align=\"lefAt\"><font color=brown>💬 Key-Findings:</font></h3>\n",
        "\n",
        "    \n",
        "* The **key factors** that significantly influence the **wine quality** are **Alcohol**, **Sulphates** and **Volatilee Acidity.**\n",
        "    \n",
        "\n",
        "*  The **minimal impact** of features on the **wine quality** are **Free Sulfur Dioxide** and **pH**.\n",
        "\n",
        "    \n",
        "* **High Training and Testing Accuracies:** Both the model achieved a high accuracy score near to 90% on the training data, indicating a good fit to the training instances. Additionally, the model's accuracy score near to 87% on the testing data suggests its ability to generalize well to unseen instances.\n",
        "    \n",
        "    \n",
        "* **High F1 Score, Recall, and Precision:** The model achieved high F1 score, recall, and precision values, all **more than 0.8.** This indicates that the model has a strong ability to correctly identify positive cases while minimizing false positives and maximizing true positives.\n",
        "\n",
        "\n",
        "* **High AUC value more than 0.8**, states that the model demonstrates a reasonably good discriminatory power. It suggests that the model is able to distinguish between positive and negative instances with a relatively high degree of accuracy.\n",
        "    \n",
        "    \n",
        "* **Overall Model Performance:** The model demonstrates strong performance across multiple evaluation metrics, indicating its effectiveness in making accurate predictions and capturing the desired outcomes.\n",
        "   "
      ],
      "metadata": {
        "id": "i82MRi2VFQVS"
      }
    },
    {
      "cell_type": "markdown",
      "source": [
        "---"
      ],
      "metadata": {
        "id": "fk0lxMOBFQVS"
      }
    },
    {
      "cell_type": "markdown",
      "source": [
        "# <div style=\"padding:20px;color:white;margin:0;font-size:35px;font-family:Verdana;text-align:center;display:fill;border-radius:5px;background-color:#254E58;overflow:hidden\"><b>💡 Recommendations 💡</b></div>"
      ],
      "metadata": {
        "id": "L7UysaOdFQVS"
      }
    },
    {
      "cell_type": "markdown",
      "source": [
        "<div style=\"border-radius:10px; border:#808080 solid; padding: 15px; background-color: ##F0E68C ; font-size:100%; text-align:left\">\n",
        "\n",
        "<h3 align=\"lefAt\"><font color=brown>💬 Key-Suggestions:</font></h3>\n",
        "\n",
        "* **Key Quality Drivers:** Prioritize **Alcohol, Sulphates, and Volatile Acidity** as they significantly influence wine quality.\n",
        "\n",
        "    \n",
        "* **Quality Control:** Implement stringent **quality control measures** to maintain desired levels of the key factors during production.\n",
        "\n",
        "    \n",
        "* **Varietal-specific Approach:** Tailor the **winemaking process** to suit each grape variety's unique characteristics and quality requirements.\n",
        "\n",
        "    \n",
        "   \n",
        "* **Technology and Expertise:** Invest in modern winemaking technology and **employ experienced winemakers** to ensure precise management of quality factors.\n",
        "\n",
        "    \n",
        "    \n",
        "* **Continuous Improvement:** Continuously monitor **customer feedback and wine ratings** to identify areas for improvement and enhance overall product quality."
      ],
      "metadata": {
        "id": "P80zck2OFQVT"
      }
    },
    {
      "cell_type": "markdown",
      "source": [
        "---"
      ],
      "metadata": {
        "id": "bWnOxYnnFQVT"
      }
    },
    {
      "cell_type": "markdown",
      "source": [
        "# <div style=\"padding:20px;color:white;margin:0;font-size:35px;font-family:Verdana;text-align:center;display:fill;border-radius:5px;background-color:#254E58;overflow:hidden\"><b> 🏁 THE END 🏁</b></div>"
      ],
      "metadata": {
        "papermill": {
          "duration": 0.084212,
          "end_time": "2023-05-19T13:13:12.139286",
          "exception": false,
          "start_time": "2023-05-19T13:13:12.055074",
          "status": "completed"
        },
        "tags": [],
        "id": "llcln0QSFQVT"
      }
    },
    {
      "cell_type": "markdown",
      "source": [
        "<div style=\"background-color:#FFD700; font-family: Georgia; color:black; font-size: 130%; text-align:center; border: 3px solid #000000; border-radius: 20px; padding: 20px;\">\n",
        "    <p style=\"margin: 0; text-align:center;\">🔴 <b>If you liked this Notebook, please do upvote.</b> 🔴</p><br>\n",
        "    <p style=\"margin: 0; text-align:center;\">🔴 <b>If you have any questions, feel free to comment!</b> 🔴</p><br>\n",
        "    <p style=\"margin: 0; text-align:center;\"><strong> 🌼 Best Wishes!  🌼</strong></p><br>\n",
        "</div>"
      ],
      "metadata": {
        "id": "pRZMCuN1FQVT"
      }
    },
    {
      "cell_type": "markdown",
      "source": [
        "<center> <img src=\"https://img.freepik.com/free-vector/thank-you-placard-concept-illustration_114360-13436.jpg?w=2000\" style='width: 500px; height: 300px;'>"
      ],
      "metadata": {
        "papermill": {
          "duration": 0.084077,
          "end_time": "2023-05-19T13:13:12.307331",
          "exception": false,
          "start_time": "2023-05-19T13:13:12.223254",
          "status": "completed"
        },
        "tags": [],
        "id": "n-Xpnyp6FQVT"
      }
    },
    {
      "cell_type": "markdown",
      "source": [
        "----"
      ],
      "metadata": {
        "id": "3-Mki6maFQVT"
      }
    }
  ]
}